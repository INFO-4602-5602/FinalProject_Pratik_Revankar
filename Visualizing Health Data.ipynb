{
 "cells": [
  {
   "cell_type": "markdown",
   "metadata": {},
   "source": [
    "### Healthy Living - Visualizing Daily Activity"
   ]
  },
  {
   "cell_type": "code",
   "execution_count": 1,
   "metadata": {},
   "outputs": [],
   "source": [
    "import pandas as pd\n",
    "import xmltodict\n",
    "import calendar"
   ]
  },
  {
   "cell_type": "code",
   "execution_count": 2,
   "metadata": {},
   "outputs": [],
   "source": [
    "input_path = 'apple_health_export/export.xml'\n",
    "with open(input_path, 'r') as xml_file:\n",
    "    input_data = xmltodict.parse(xml_file.read())\n",
    "\n",
    "records_list = input_data['HealthData']['Record']\n",
    "health_data = pd.DataFrame(records_list)"
   ]
  },
  {
   "cell_type": "code",
   "execution_count": 3,
   "metadata": {},
   "outputs": [
    {
     "data": {
      "text/html": [
       "<div>\n",
       "<style scoped>\n",
       "    .dataframe tbody tr th:only-of-type {\n",
       "        vertical-align: middle;\n",
       "    }\n",
       "\n",
       "    .dataframe tbody tr th {\n",
       "        vertical-align: top;\n",
       "    }\n",
       "\n",
       "    .dataframe thead th {\n",
       "        text-align: right;\n",
       "    }\n",
       "</style>\n",
       "<table border=\"1\" class=\"dataframe\">\n",
       "  <thead>\n",
       "    <tr style=\"text-align: right;\">\n",
       "      <th></th>\n",
       "      <th>@type</th>\n",
       "      <th>@sourceName</th>\n",
       "      <th>@sourceVersion</th>\n",
       "      <th>@unit</th>\n",
       "      <th>@creationDate</th>\n",
       "      <th>@startDate</th>\n",
       "      <th>@endDate</th>\n",
       "      <th>@value</th>\n",
       "      <th>@device</th>\n",
       "      <th>MetadataEntry</th>\n",
       "      <th>HeartRateVariabilityMetadataList</th>\n",
       "    </tr>\n",
       "  </thead>\n",
       "  <tbody>\n",
       "    <tr>\n",
       "      <td>0</td>\n",
       "      <td>HKQuantityTypeIdentifierHeight</td>\n",
       "      <td>Health</td>\n",
       "      <td>11.2.1</td>\n",
       "      <td>ft</td>\n",
       "      <td>2018-01-01 11:02:48 -0700</td>\n",
       "      <td>2018-01-01 11:02:48 -0700</td>\n",
       "      <td>2018-01-01 11:02:48 -0700</td>\n",
       "      <td>5.93832</td>\n",
       "      <td>NaN</td>\n",
       "      <td>NaN</td>\n",
       "      <td>NaN</td>\n",
       "    </tr>\n",
       "    <tr>\n",
       "      <td>1</td>\n",
       "      <td>HKQuantityTypeIdentifierHeight</td>\n",
       "      <td>Seven</td>\n",
       "      <td>8.0.4.6</td>\n",
       "      <td>ft</td>\n",
       "      <td>2018-12-27 07:10:05 -0700</td>\n",
       "      <td>2018-12-27 07:10:05 -0700</td>\n",
       "      <td>2018-12-27 07:10:05 -0700</td>\n",
       "      <td>5.90551</td>\n",
       "      <td>NaN</td>\n",
       "      <td>NaN</td>\n",
       "      <td>NaN</td>\n",
       "    </tr>\n",
       "    <tr>\n",
       "      <td>2</td>\n",
       "      <td>HKQuantityTypeIdentifierBodyMass</td>\n",
       "      <td>Health</td>\n",
       "      <td>11.2.1</td>\n",
       "      <td>lb</td>\n",
       "      <td>2018-01-01 11:02:48 -0700</td>\n",
       "      <td>2018-01-01 11:02:48 -0700</td>\n",
       "      <td>2018-01-01 11:02:48 -0700</td>\n",
       "      <td>141.096</td>\n",
       "      <td>NaN</td>\n",
       "      <td>NaN</td>\n",
       "      <td>NaN</td>\n",
       "    </tr>\n",
       "    <tr>\n",
       "      <td>3</td>\n",
       "      <td>HKQuantityTypeIdentifierBodyMass</td>\n",
       "      <td>Seven</td>\n",
       "      <td>8.0.4.6</td>\n",
       "      <td>lb</td>\n",
       "      <td>2018-12-27 07:10:01 -0700</td>\n",
       "      <td>2018-12-27 07:10:01 -0700</td>\n",
       "      <td>2018-12-27 07:10:01 -0700</td>\n",
       "      <td>147.71</td>\n",
       "      <td>NaN</td>\n",
       "      <td>NaN</td>\n",
       "      <td>NaN</td>\n",
       "    </tr>\n",
       "    <tr>\n",
       "      <td>4</td>\n",
       "      <td>HKQuantityTypeIdentifierHeartRate</td>\n",
       "      <td>Pratik’s Apple Watch</td>\n",
       "      <td>4.3.2</td>\n",
       "      <td>count/min</td>\n",
       "      <td>2019-01-12 03:10:45 -0700</td>\n",
       "      <td>2019-01-12 03:05:55 -0700</td>\n",
       "      <td>2019-01-12 03:05:55 -0700</td>\n",
       "      <td>94</td>\n",
       "      <td>&lt;&lt;HKDevice: 0x280cd4d70&gt;, name:Apple Watch, ma...</td>\n",
       "      <td>{'@key': 'HKMetadataKeyHeartRateMotionContext'...</td>\n",
       "      <td>NaN</td>\n",
       "    </tr>\n",
       "  </tbody>\n",
       "</table>\n",
       "</div>"
      ],
      "text/plain": [
       "                               @type           @sourceName @sourceVersion  \\\n",
       "0     HKQuantityTypeIdentifierHeight                Health         11.2.1   \n",
       "1     HKQuantityTypeIdentifierHeight                 Seven        8.0.4.6   \n",
       "2   HKQuantityTypeIdentifierBodyMass                Health         11.2.1   \n",
       "3   HKQuantityTypeIdentifierBodyMass                 Seven        8.0.4.6   \n",
       "4  HKQuantityTypeIdentifierHeartRate  Pratik’s Apple Watch          4.3.2   \n",
       "\n",
       "       @unit              @creationDate                 @startDate  \\\n",
       "0         ft  2018-01-01 11:02:48 -0700  2018-01-01 11:02:48 -0700   \n",
       "1         ft  2018-12-27 07:10:05 -0700  2018-12-27 07:10:05 -0700   \n",
       "2         lb  2018-01-01 11:02:48 -0700  2018-01-01 11:02:48 -0700   \n",
       "3         lb  2018-12-27 07:10:01 -0700  2018-12-27 07:10:01 -0700   \n",
       "4  count/min  2019-01-12 03:10:45 -0700  2019-01-12 03:05:55 -0700   \n",
       "\n",
       "                    @endDate   @value  \\\n",
       "0  2018-01-01 11:02:48 -0700  5.93832   \n",
       "1  2018-12-27 07:10:05 -0700  5.90551   \n",
       "2  2018-01-01 11:02:48 -0700  141.096   \n",
       "3  2018-12-27 07:10:01 -0700   147.71   \n",
       "4  2019-01-12 03:05:55 -0700       94   \n",
       "\n",
       "                                             @device  \\\n",
       "0                                                NaN   \n",
       "1                                                NaN   \n",
       "2                                                NaN   \n",
       "3                                                NaN   \n",
       "4  <<HKDevice: 0x280cd4d70>, name:Apple Watch, ma...   \n",
       "\n",
       "                                       MetadataEntry  \\\n",
       "0                                                NaN   \n",
       "1                                                NaN   \n",
       "2                                                NaN   \n",
       "3                                                NaN   \n",
       "4  {'@key': 'HKMetadataKeyHeartRateMotionContext'...   \n",
       "\n",
       "  HeartRateVariabilityMetadataList  \n",
       "0                              NaN  \n",
       "1                              NaN  \n",
       "2                              NaN  \n",
       "3                              NaN  \n",
       "4                              NaN  "
      ]
     },
     "execution_count": 3,
     "metadata": {},
     "output_type": "execute_result"
    }
   ],
   "source": [
    "health_data.head()"
   ]
  },
  {
   "cell_type": "code",
   "execution_count": 4,
   "metadata": {},
   "outputs": [
    {
     "data": {
      "text/plain": [
       "Index(['@type', '@sourceName', '@sourceVersion', '@unit', '@creationDate',\n",
       "       '@startDate', '@endDate', '@value', '@device', 'MetadataEntry',\n",
       "       'HeartRateVariabilityMetadataList'],\n",
       "      dtype='object')"
      ]
     },
     "execution_count": 4,
     "metadata": {},
     "output_type": "execute_result"
    }
   ],
   "source": [
    "health_data.columns"
   ]
  },
  {
   "cell_type": "code",
   "execution_count": 5,
   "metadata": {},
   "outputs": [
    {
     "data": {
      "text/plain": [
       "array(['HKQuantityTypeIdentifierHeight',\n",
       "       'HKQuantityTypeIdentifierBodyMass',\n",
       "       'HKQuantityTypeIdentifierHeartRate',\n",
       "       'HKQuantityTypeIdentifierStepCount',\n",
       "       'HKQuantityTypeIdentifierDistanceWalkingRunning',\n",
       "       'HKQuantityTypeIdentifierBasalEnergyBurned',\n",
       "       'HKQuantityTypeIdentifierActiveEnergyBurned',\n",
       "       'HKQuantityTypeIdentifierFlightsClimbed',\n",
       "       'HKQuantityTypeIdentifierAppleExerciseTime',\n",
       "       'HKQuantityTypeIdentifierHeadphoneAudioExposure',\n",
       "       'HKCategoryTypeIdentifierSleepAnalysis',\n",
       "       'HKCategoryTypeIdentifierAppleStandHour',\n",
       "       'HKQuantityTypeIdentifierHeartRateVariabilitySDNN'], dtype=object)"
      ]
     },
     "execution_count": 5,
     "metadata": {},
     "output_type": "execute_result"
    }
   ],
   "source": [
    "health_data['@type'].unique()"
   ]
  },
  {
   "cell_type": "code",
   "execution_count": 6,
   "metadata": {},
   "outputs": [
    {
     "data": {
      "text/plain": [
       "array(['Health', 'Seven', 'Pratik’s Apple\\xa0Watch', 'iPhone',\n",
       "       'Pratik’s iPhone', 'Runkeeper', 'Clock'], dtype=object)"
      ]
     },
     "execution_count": 6,
     "metadata": {},
     "output_type": "execute_result"
    }
   ],
   "source": [
    "health_data['@sourceName'].unique()"
   ]
  },
  {
   "cell_type": "code",
   "execution_count": 7,
   "metadata": {},
   "outputs": [
    {
     "data": {
      "text/plain": [
       "array(['ft', 'lb', 'count/min', 'count', 'mi', 'kcal', 'min', 'dBASPL',\n",
       "       nan, 'ms'], dtype=object)"
      ]
     },
     "execution_count": 7,
     "metadata": {},
     "output_type": "execute_result"
    }
   ],
   "source": [
    "health_data['@unit'].unique()"
   ]
  },
  {
   "cell_type": "markdown",
   "metadata": {},
   "source": [
    "**Get data for each metric**"
   ]
  },
  {
   "cell_type": "code",
   "execution_count": 8,
   "metadata": {},
   "outputs": [],
   "source": [
    "# format timestamp data\n",
    "\n",
    "format = '%Y-%m-%d %H:%M:%S'\n",
    "health_data['@creationDate'] = pd.to_datetime(health_data['@creationDate'],\n",
    "                                     format=format)\n",
    "health_data['@startDate'] = pd.to_datetime(health_data['@startDate'],\n",
    "                                  format=format)\n",
    "health_data['@endDate'] = pd.to_datetime(health_data['@endDate'],\n",
    "                                format=format)"
   ]
  },
  {
   "cell_type": "code",
   "execution_count": 9,
   "metadata": {},
   "outputs": [
    {
     "data": {
      "text/plain": [
       "(341647, 11)"
      ]
     },
     "execution_count": 9,
     "metadata": {},
     "output_type": "execute_result"
    }
   ],
   "source": [
    "health_data.shape"
   ]
  },
  {
   "cell_type": "code",
   "execution_count": 10,
   "metadata": {},
   "outputs": [
    {
     "data": {
      "text/plain": [
       "(134039, 11)"
      ]
     },
     "execution_count": 10,
     "metadata": {},
     "output_type": "execute_result"
    }
   ],
   "source": [
    "# take data points between August 1st, 2019 and December 1st, 2019\n",
    "start_date = '2019-08-01'\n",
    "end_date = '2019-12-01'\n",
    "fall_sem = (health_data['@creationDate'] >= start_date) & (health_data['@creationDate'] <= end_date)\n",
    "health_data = health_data.loc[fall_sem]\n",
    "health_data.loc[fall_sem].shape"
   ]
  },
  {
   "cell_type": "code",
   "execution_count": 11,
   "metadata": {},
   "outputs": [],
   "source": [
    "heart_rate = health_data[health_data['@type'] == 'HKQuantityTypeIdentifierHeartRate']\n",
    "heart_rate_variability_sdnn = health_data[health_data['@type'] == 'HKQuantityTypeIdentifierHeartRateVariabilitySDNN']\n",
    "step_counts = health_data[health_data['@type'] == 'HKQuantityTypeIdentifierStepCount']\n",
    "dist_walk_run = health_data[health_data['@type'] == 'HKQuantityTypeIdentifierDistanceWalkingRunning']\n",
    "basal_energy_burnt = health_data[health_data['@type'] == 'HKQuantityTypeIdentifierBasalEnergyBurned']\n",
    "active_energy_burnt = health_data[health_data['@type'] == 'HKQuantityTypeIdentifierActiveEnergyBurned']\n",
    "flights_climbed = health_data[health_data['@type'] == 'HKQuantityTypeIdentifierFlightsClimbed']\n",
    "exercise_time = health_data[health_data['@type'] == 'HKQuantityTypeIdentifierAppleExerciseTime']\n",
    "headphone_audio_exposure = health_data[health_data['@type'] == 'HKQuantityTypeIdentifierHeadphoneAudioExposure']\n",
    "sleep_analysis = health_data[health_data['@type'] == 'HKCategoryTypeIdentifierSleepAnalysis']\n",
    "stand_hour = health_data[health_data['@type'] == 'HKCategoryTypeIdentifierAppleStandHour']"
   ]
  },
  {
   "cell_type": "markdown",
   "metadata": {},
   "source": [
    "**Analyzing** `step_counts`"
   ]
  },
  {
   "cell_type": "code",
   "execution_count": 12,
   "metadata": {},
   "outputs": [
    {
     "name": "stderr",
     "output_type": "stream",
     "text": [
      "/Users/pratikrev/opt/anaconda3/lib/python3.7/site-packages/pandas/core/indexing.py:494: SettingWithCopyWarning: \n",
      "A value is trying to be set on a copy of a slice from a DataFrame.\n",
      "Try using .loc[row_indexer,col_indexer] = value instead\n",
      "\n",
      "See the caveats in the documentation: http://pandas.pydata.org/pandas-docs/stable/user_guide/indexing.html#returning-a-view-versus-a-copy\n",
      "  self.obj[item] = s\n"
     ]
    }
   ],
   "source": [
    "step_counts.loc[:, '@value'] = pd.to_numeric(\n",
    "    step_counts.loc[:, '@value'])\n",
    "step_counts_by_creation = step_counts.groupby('@creationDate').sum()"
   ]
  },
  {
   "cell_type": "code",
   "execution_count": 13,
   "metadata": {},
   "outputs": [
    {
     "data": {
      "text/html": [
       "<div>\n",
       "<style scoped>\n",
       "    .dataframe tbody tr th:only-of-type {\n",
       "        vertical-align: middle;\n",
       "    }\n",
       "\n",
       "    .dataframe tbody tr th {\n",
       "        vertical-align: top;\n",
       "    }\n",
       "\n",
       "    .dataframe thead th {\n",
       "        text-align: right;\n",
       "    }\n",
       "</style>\n",
       "<table border=\"1\" class=\"dataframe\">\n",
       "  <thead>\n",
       "    <tr style=\"text-align: right;\">\n",
       "      <th></th>\n",
       "      <th>@value</th>\n",
       "    </tr>\n",
       "    <tr>\n",
       "      <th>@creationDate</th>\n",
       "      <th></th>\n",
       "    </tr>\n",
       "  </thead>\n",
       "  <tbody>\n",
       "    <tr>\n",
       "      <td>2019-08-01 00:12:06-07:00</td>\n",
       "      <td>40</td>\n",
       "    </tr>\n",
       "    <tr>\n",
       "      <td>2019-08-01 01:07:40-07:00</td>\n",
       "      <td>22</td>\n",
       "    </tr>\n",
       "    <tr>\n",
       "      <td>2019-08-01 01:17:13-07:00</td>\n",
       "      <td>25</td>\n",
       "    </tr>\n",
       "    <tr>\n",
       "      <td>2019-08-01 01:44:39-07:00</td>\n",
       "      <td>52</td>\n",
       "    </tr>\n",
       "    <tr>\n",
       "      <td>2019-08-01 01:56:08-07:00</td>\n",
       "      <td>16</td>\n",
       "    </tr>\n",
       "  </tbody>\n",
       "</table>\n",
       "</div>"
      ],
      "text/plain": [
       "                           @value\n",
       "@creationDate                    \n",
       "2019-08-01 00:12:06-07:00      40\n",
       "2019-08-01 01:07:40-07:00      22\n",
       "2019-08-01 01:17:13-07:00      25\n",
       "2019-08-01 01:44:39-07:00      52\n",
       "2019-08-01 01:56:08-07:00      16"
      ]
     },
     "execution_count": 13,
     "metadata": {},
     "output_type": "execute_result"
    }
   ],
   "source": [
    "step_counts_by_creation.head()"
   ]
  },
  {
   "cell_type": "code",
   "execution_count": 14,
   "metadata": {},
   "outputs": [
    {
     "data": {
      "text/plain": [
       "@creationDate\n",
       "2019-11-23 00:00:00-07:00    33269\n",
       "2019-08-16 00:00:00-07:00    33104\n",
       "2019-09-07 00:00:00-07:00    32271\n",
       "2019-09-08 00:00:00-07:00    31067\n",
       "2019-09-26 00:00:00-07:00    26329\n",
       "Name: @value, dtype: int64"
      ]
     },
     "execution_count": 14,
     "metadata": {},
     "output_type": "execute_result"
    }
   ],
   "source": [
    "by_day = step_counts_by_creation['@value'].resample('D').sum()\n",
    "by_day.sort_values(ascending=False)[:5]"
   ]
  },
  {
   "cell_type": "code",
   "execution_count": 15,
   "metadata": {},
   "outputs": [
    {
     "data": {
      "text/plain": [
       "@creationDate\n",
       "2019-09-30 00:00:00-07:00    15083.500000\n",
       "2019-08-31 00:00:00-07:00    13711.387097\n",
       "2019-10-31 00:00:00-07:00    10182.677419\n",
       "2019-11-30 00:00:00-07:00     9297.100000\n",
       "Name: @value, dtype: float64"
      ]
     },
     "execution_count": 15,
     "metadata": {},
     "output_type": "execute_result"
    }
   ],
   "source": [
    "# August - November\n",
    "means_by_distinct_month = by_day.resample('M').mean()\n",
    "means_by_distinct_month.sort_values(ascending=False)[:4]"
   ]
  },
  {
   "cell_type": "code",
   "execution_count": 16,
   "metadata": {},
   "outputs": [
    {
     "data": {
      "text/plain": [
       "@creationDate\n",
       "2019-09-01 00:00:00-07:00    16386\n",
       "2019-09-02 00:00:00-07:00     6445\n",
       "2019-09-03 00:00:00-07:00    12096\n",
       "2019-09-04 00:00:00-07:00     4871\n",
       "2019-09-05 00:00:00-07:00    16278\n",
       "2019-09-06 00:00:00-07:00     8998\n",
       "2019-09-07 00:00:00-07:00    32271\n",
       "2019-09-08 00:00:00-07:00    31067\n",
       "2019-09-09 00:00:00-07:00     8815\n",
       "2019-09-10 00:00:00-07:00    26316\n",
       "2019-09-11 00:00:00-07:00    13039\n",
       "2019-09-12 00:00:00-07:00     8097\n",
       "2019-09-13 00:00:00-07:00    10659\n",
       "2019-09-14 00:00:00-07:00    17135\n",
       "2019-09-15 00:00:00-07:00    15267\n",
       "2019-09-16 00:00:00-07:00    10568\n",
       "2019-09-17 00:00:00-07:00    17057\n",
       "2019-09-18 00:00:00-07:00    10529\n",
       "2019-09-19 00:00:00-07:00    11006\n",
       "2019-09-20 00:00:00-07:00    13650\n",
       "2019-09-21 00:00:00-07:00    16854\n",
       "2019-09-22 00:00:00-07:00    11628\n",
       "2019-09-23 00:00:00-07:00    20318\n",
       "2019-09-24 00:00:00-07:00    18197\n",
       "2019-09-25 00:00:00-07:00    17574\n",
       "2019-09-26 00:00:00-07:00    26329\n",
       "2019-09-27 00:00:00-07:00    19483\n",
       "2019-09-28 00:00:00-07:00    10294\n",
       "2019-09-29 00:00:00-07:00     6812\n",
       "2019-09-30 00:00:00-07:00    14466\n",
       "Freq: D, Name: @value, dtype: int64"
      ]
     },
     "execution_count": 16,
     "metadata": {},
     "output_type": "execute_result"
    }
   ],
   "source": [
    "by_day[(by_day.index.year == 2019) & (by_day.index.month == 9)]"
   ]
  },
  {
   "cell_type": "code",
   "execution_count": 17,
   "metadata": {},
   "outputs": [
    {
     "data": {
      "text/plain": [
       "<matplotlib.axes._subplots.AxesSubplot at 0x120617a10>"
      ]
     },
     "execution_count": 17,
     "metadata": {},
     "output_type": "execute_result"
    }
   ],
   "source": [
    "means_by_month = means_by_distinct_month.groupby(\n",
    "    means_by_distinct_month.index.month).mean()\n",
    "means_by_month.index = list(calendar.month_name)[8:12]\n",
    "means_by_month.plot(kind='bar')"
   ]
  },
  {
   "cell_type": "code",
   "execution_count": 18,
   "metadata": {},
   "outputs": [
    {
     "data": {
      "text/plain": [
       "<matplotlib.axes._subplots.AxesSubplot at 0x1209847d0>"
      ]
     },
     "execution_count": 18,
     "metadata": {},
     "output_type": "execute_result"
    },
    {
     "data": {
      "image/png": "[encoded data removed]",
      "text/plain": [
       "<Figure size 432x288 with 1 Axes>"
      ]
     },
     "metadata": {
      "needs_background": "light"
     },
     "output_type": "display_data"
    }
   ],
   "source": [
    "means_by_weekday = by_day.groupby(by_day.index.dayofweek).mean()\n",
    "means_by_weekday.index = ['Monday', 'Tuesday',\n",
    "                          'Wednesday', 'Thursday',\n",
    "                          'Friday', 'Saturday',\n",
    "                          'Sunday']   \n",
    "means_by_weekday.plot(kind='bar')"
   ]
  },
  {
   "cell_type": "code",
   "execution_count": 19,
   "metadata": {},
   "outputs": [
    {
     "name": "stderr",
     "output_type": "stream",
     "text": [
      "/Users/pratikrev/opt/anaconda3/lib/python3.7/site-packages/pandas/core/indexing.py:494: SettingWithCopyWarning: \n",
      "A value is trying to be set on a copy of a slice from a DataFrame.\n",
      "Try using .loc[row_indexer,col_indexer] = value instead\n",
      "\n",
      "See the caveats in the documentation: http://pandas.pydata.org/pandas-docs/stable/user_guide/indexing.html#returning-a-view-versus-a-copy\n",
      "  self.obj[item] = s\n"
     ]
    }
   ],
   "source": [
    "heart_rate.loc[:, '@value'] = pd.to_numeric(\n",
    "    heart_rate.loc[:, '@value'])\n",
    "heart_rate_by_creation = heart_rate.groupby('@creationDate').mean()"
   ]
  },
  {
   "cell_type": "code",
   "execution_count": 20,
   "metadata": {},
   "outputs": [
    {
     "data": {
      "text/html": [
       "<div>\n",
       "<style scoped>\n",
       "    .dataframe tbody tr th:only-of-type {\n",
       "        vertical-align: middle;\n",
       "    }\n",
       "\n",
       "    .dataframe tbody tr th {\n",
       "        vertical-align: top;\n",
       "    }\n",
       "\n",
       "    .dataframe thead th {\n",
       "        text-align: right;\n",
       "    }\n",
       "</style>\n",
       "<table border=\"1\" class=\"dataframe\">\n",
       "  <thead>\n",
       "    <tr style=\"text-align: right;\">\n",
       "      <th></th>\n",
       "      <th>@value</th>\n",
       "    </tr>\n",
       "    <tr>\n",
       "      <th>@creationDate</th>\n",
       "      <th></th>\n",
       "    </tr>\n",
       "  </thead>\n",
       "  <tbody>\n",
       "    <tr>\n",
       "      <td>2019-08-01 00:00:44-07:00</td>\n",
       "      <td>74.0</td>\n",
       "    </tr>\n",
       "    <tr>\n",
       "      <td>2019-08-01 00:05:52-07:00</td>\n",
       "      <td>67.0</td>\n",
       "    </tr>\n",
       "    <tr>\n",
       "      <td>2019-08-01 00:11:58-07:00</td>\n",
       "      <td>65.0</td>\n",
       "    </tr>\n",
       "    <tr>\n",
       "      <td>2019-08-01 00:18:21-07:00</td>\n",
       "      <td>90.0</td>\n",
       "    </tr>\n",
       "    <tr>\n",
       "      <td>2019-08-01 00:20:39-07:00</td>\n",
       "      <td>66.0</td>\n",
       "    </tr>\n",
       "  </tbody>\n",
       "</table>\n",
       "</div>"
      ],
      "text/plain": [
       "                           @value\n",
       "@creationDate                    \n",
       "2019-08-01 00:00:44-07:00    74.0\n",
       "2019-08-01 00:05:52-07:00    67.0\n",
       "2019-08-01 00:11:58-07:00    65.0\n",
       "2019-08-01 00:18:21-07:00    90.0\n",
       "2019-08-01 00:20:39-07:00    66.0"
      ]
     },
     "execution_count": 20,
     "metadata": {},
     "output_type": "execute_result"
    }
   ],
   "source": [
    "heart_rate_by_creation.head()"
   ]
  },
  {
   "cell_type": "code",
   "execution_count": 21,
   "metadata": {},
   "outputs": [
    {
     "data": {
      "text/plain": [
       "@creationDate\n",
       "2019-09-07 00:00:00-07:00    121.209777\n",
       "2019-10-13 00:00:00-07:00    113.333333\n",
       "2019-08-07 00:00:00-07:00    112.000000\n",
       "2019-11-29 00:00:00-07:00    102.129496\n",
       "2019-11-23 00:00:00-07:00    102.033069\n",
       "Name: @value, dtype: float64"
      ]
     },
     "execution_count": 21,
     "metadata": {},
     "output_type": "execute_result"
    }
   ],
   "source": [
    "# High heart rate\n",
    "by_day = heart_rate_by_creation['@value'].resample('D').mean()\n",
    "by_day.sort_values(ascending=False)[:5]"
   ]
  },
  {
   "cell_type": "code",
   "execution_count": 22,
   "metadata": {},
   "outputs": [
    {
     "data": {
      "text/plain": [
       "@creationDate\n",
       "2019-08-01 00:00:00-07:00    71.464361\n",
       "2019-10-25 00:00:00-07:00    71.661290\n",
       "2019-09-16 00:00:00-07:00    71.794872\n",
       "2019-11-08 00:00:00-07:00    73.024038\n",
       "2019-10-28 00:00:00-07:00    73.641509\n",
       "Name: @value, dtype: float64"
      ]
     },
     "execution_count": 22,
     "metadata": {},
     "output_type": "execute_result"
    }
   ],
   "source": [
    "# High heart rate\n",
    "by_day = heart_rate_by_creation['@value'].resample('D').mean()\n",
    "by_day.sort_values(ascending=True)[:5]"
   ]
  },
  {
   "cell_type": "code",
   "execution_count": 23,
   "metadata": {},
   "outputs": [
    {
     "data": {
      "text/plain": [
       "@creationDate\n",
       "2019-11-30 00:00:00-07:00    84.285463\n",
       "2019-09-30 00:00:00-07:00    83.514230\n",
       "2019-08-31 00:00:00-07:00    83.482668\n",
       "2019-10-31 00:00:00-07:00    81.086470\n",
       "Name: @value, dtype: float64"
      ]
     },
     "execution_count": 23,
     "metadata": {},
     "output_type": "execute_result"
    }
   ],
   "source": [
    "means_by_distinct_month = by_day.resample('M').mean()\n",
    "means_by_distinct_month.sort_values(ascending=False)"
   ]
  },
  {
   "cell_type": "code",
   "execution_count": 24,
   "metadata": {},
   "outputs": [
    {
     "data": {
      "text/plain": [
       "<matplotlib.axes._subplots.AxesSubplot at 0x1208c67d0>"
      ]
     },
     "execution_count": 24,
     "metadata": {},
     "output_type": "execute_result"
    },
    {
     "data": {
      "image/png": "[encoded data removed]",
      "text/plain": [
       "<Figure size 432x288 with 1 Axes>"
      ]
     },
     "metadata": {
      "needs_background": "light"
     },
     "output_type": "display_data"
    }
   ],
   "source": [
    "means_by_month = means_by_distinct_month.groupby(\n",
    "    means_by_distinct_month.index.month).mean()\n",
    "means_by_month.index = list(calendar.month_name)[8:12]\n",
    "means_by_month.plot(kind='bar')"
   ]
  },
  {
   "cell_type": "code",
   "execution_count": 25,
   "metadata": {},
   "outputs": [
    {
     "data": {
      "text/plain": [
       "<matplotlib.axes._subplots.AxesSubplot at 0x120d17510>"
      ]
     },
     "execution_count": 25,
     "metadata": {},
     "output_type": "execute_result"
    },
    {
     "data": {
      "image/png": "[encoded data removed]",
      "text/plain": [
       "<Figure size 432x288 with 1 Axes>"
      ]
     },
     "metadata": {
      "needs_background": "light"
     },
     "output_type": "display_data"
    }
   ],
   "source": [
    "means_by_weekday = by_day.groupby(by_day.index.dayofweek).mean()\n",
    "means_by_weekday.index = ['Monday', 'Tuesday',\n",
    "                          'Wednesday', 'Thursday',\n",
    "                          'Friday', 'Saturday',\n",
    "                          'Sunday']   \n",
    "means_by_weekday.plot(kind='bar')"
   ]
  },
  {
   "cell_type": "code",
   "execution_count": 26,
   "metadata": {},
   "outputs": [
    {
     "data": {
      "text/html": [
       "<div>\n",
       "<style scoped>\n",
       "    .dataframe tbody tr th:only-of-type {\n",
       "        vertical-align: middle;\n",
       "    }\n",
       "\n",
       "    .dataframe tbody tr th {\n",
       "        vertical-align: top;\n",
       "    }\n",
       "\n",
       "    .dataframe thead th {\n",
       "        text-align: right;\n",
       "    }\n",
       "</style>\n",
       "<table border=\"1\" class=\"dataframe\">\n",
       "  <thead>\n",
       "    <tr style=\"text-align: right;\">\n",
       "      <th></th>\n",
       "      <th>@workoutActivityType</th>\n",
       "      <th>@duration</th>\n",
       "      <th>@durationUnit</th>\n",
       "      <th>@totalDistance</th>\n",
       "      <th>@totalDistanceUnit</th>\n",
       "      <th>@totalEnergyBurned</th>\n",
       "      <th>@totalEnergyBurnedUnit</th>\n",
       "      <th>@sourceName</th>\n",
       "      <th>@sourceVersion</th>\n",
       "      <th>@creationDate</th>\n",
       "      <th>@startDate</th>\n",
       "      <th>@endDate</th>\n",
       "      <th>MetadataEntry</th>\n",
       "      <th>@device</th>\n",
       "      <th>WorkoutEvent</th>\n",
       "    </tr>\n",
       "  </thead>\n",
       "  <tbody>\n",
       "    <tr>\n",
       "      <td>0</td>\n",
       "      <td>HKWorkoutActivityTypeHighIntensityIntervalTrai...</td>\n",
       "      <td>7.883333333333334</td>\n",
       "      <td>min</td>\n",
       "      <td>0</td>\n",
       "      <td>mi</td>\n",
       "      <td>102</td>\n",
       "      <td>kcal</td>\n",
       "      <td>Seven</td>\n",
       "      <td>8.0.4.6</td>\n",
       "      <td>2018-12-27 07:10:09 -0700</td>\n",
       "      <td>2018-12-27 07:01:34 -0700</td>\n",
       "      <td>2018-12-27 07:09:27 -0700</td>\n",
       "      <td>[{'@key': 'HKGroupFitness', '@value': '0'}, {'...</td>\n",
       "      <td>NaN</td>\n",
       "      <td>NaN</td>\n",
       "    </tr>\n",
       "    <tr>\n",
       "      <td>1</td>\n",
       "      <td>HKWorkoutActivityTypeHighIntensityIntervalTrai...</td>\n",
       "      <td>7.933333333333334</td>\n",
       "      <td>min</td>\n",
       "      <td>0</td>\n",
       "      <td>mi</td>\n",
       "      <td>103</td>\n",
       "      <td>kcal</td>\n",
       "      <td>Seven</td>\n",
       "      <td>8.0.4.6</td>\n",
       "      <td>2018-12-27 07:19:01 -0700</td>\n",
       "      <td>2018-12-27 07:10:21 -0700</td>\n",
       "      <td>2018-12-27 07:18:17 -0700</td>\n",
       "      <td>[{'@key': 'HKGroupFitness', '@value': '0'}, {'...</td>\n",
       "      <td>NaN</td>\n",
       "      <td>NaN</td>\n",
       "    </tr>\n",
       "    <tr>\n",
       "      <td>2</td>\n",
       "      <td>HKWorkoutActivityTypeHighIntensityIntervalTrai...</td>\n",
       "      <td>7.883333333333334</td>\n",
       "      <td>min</td>\n",
       "      <td>0</td>\n",
       "      <td>mi</td>\n",
       "      <td>96</td>\n",
       "      <td>kcal</td>\n",
       "      <td>Seven</td>\n",
       "      <td>8.0.4.6</td>\n",
       "      <td>2018-12-29 07:10:30 -0700</td>\n",
       "      <td>2018-12-29 07:00:36 -0700</td>\n",
       "      <td>2018-12-29 07:08:29 -0700</td>\n",
       "      <td>[{'@key': 'HKGroupFitness', '@value': '0'}, {'...</td>\n",
       "      <td>NaN</td>\n",
       "      <td>NaN</td>\n",
       "    </tr>\n",
       "    <tr>\n",
       "      <td>3</td>\n",
       "      <td>HKWorkoutActivityTypeHighIntensityIntervalTrai...</td>\n",
       "      <td>8.083333333333334</td>\n",
       "      <td>min</td>\n",
       "      <td>0</td>\n",
       "      <td>mi</td>\n",
       "      <td>105</td>\n",
       "      <td>kcal</td>\n",
       "      <td>Seven</td>\n",
       "      <td>8.0.4.6</td>\n",
       "      <td>2018-12-29 07:20:11 -0700</td>\n",
       "      <td>2018-12-29 07:11:00 -0700</td>\n",
       "      <td>2018-12-29 07:19:05 -0700</td>\n",
       "      <td>[{'@key': 'HKGroupFitness', '@value': '0'}, {'...</td>\n",
       "      <td>NaN</td>\n",
       "      <td>NaN</td>\n",
       "    </tr>\n",
       "    <tr>\n",
       "      <td>4</td>\n",
       "      <td>HKWorkoutActivityTypeHighIntensityIntervalTrai...</td>\n",
       "      <td>7.983333333333333</td>\n",
       "      <td>min</td>\n",
       "      <td>0</td>\n",
       "      <td>mi</td>\n",
       "      <td>91</td>\n",
       "      <td>kcal</td>\n",
       "      <td>Seven</td>\n",
       "      <td>8.0.4.6</td>\n",
       "      <td>2018-12-29 07:28:50 -0700</td>\n",
       "      <td>2018-12-29 07:20:51 -0700</td>\n",
       "      <td>2018-12-29 07:28:50 -0700</td>\n",
       "      <td>[{'@key': 'HKGroupFitness', '@value': '0'}, {'...</td>\n",
       "      <td>NaN</td>\n",
       "      <td>NaN</td>\n",
       "    </tr>\n",
       "  </tbody>\n",
       "</table>\n",
       "</div>"
      ],
      "text/plain": [
       "                                @workoutActivityType          @duration  \\\n",
       "0  HKWorkoutActivityTypeHighIntensityIntervalTrai...  7.883333333333334   \n",
       "1  HKWorkoutActivityTypeHighIntensityIntervalTrai...  7.933333333333334   \n",
       "2  HKWorkoutActivityTypeHighIntensityIntervalTrai...  7.883333333333334   \n",
       "3  HKWorkoutActivityTypeHighIntensityIntervalTrai...  8.083333333333334   \n",
       "4  HKWorkoutActivityTypeHighIntensityIntervalTrai...  7.983333333333333   \n",
       "\n",
       "  @durationUnit @totalDistance @totalDistanceUnit @totalEnergyBurned  \\\n",
       "0           min              0                 mi                102   \n",
       "1           min              0                 mi                103   \n",
       "2           min              0                 mi                 96   \n",
       "3           min              0                 mi                105   \n",
       "4           min              0                 mi                 91   \n",
       "\n",
       "  @totalEnergyBurnedUnit @sourceName @sourceVersion  \\\n",
       "0                   kcal       Seven        8.0.4.6   \n",
       "1                   kcal       Seven        8.0.4.6   \n",
       "2                   kcal       Seven        8.0.4.6   \n",
       "3                   kcal       Seven        8.0.4.6   \n",
       "4                   kcal       Seven        8.0.4.6   \n",
       "\n",
       "               @creationDate                 @startDate  \\\n",
       "0  2018-12-27 07:10:09 -0700  2018-12-27 07:01:34 -0700   \n",
       "1  2018-12-27 07:19:01 -0700  2018-12-27 07:10:21 -0700   \n",
       "2  2018-12-29 07:10:30 -0700  2018-12-29 07:00:36 -0700   \n",
       "3  2018-12-29 07:20:11 -0700  2018-12-29 07:11:00 -0700   \n",
       "4  2018-12-29 07:28:50 -0700  2018-12-29 07:20:51 -0700   \n",
       "\n",
       "                    @endDate  \\\n",
       "0  2018-12-27 07:09:27 -0700   \n",
       "1  2018-12-27 07:18:17 -0700   \n",
       "2  2018-12-29 07:08:29 -0700   \n",
       "3  2018-12-29 07:19:05 -0700   \n",
       "4  2018-12-29 07:28:50 -0700   \n",
       "\n",
       "                                       MetadataEntry @device WorkoutEvent  \n",
       "0  [{'@key': 'HKGroupFitness', '@value': '0'}, {'...     NaN          NaN  \n",
       "1  [{'@key': 'HKGroupFitness', '@value': '0'}, {'...     NaN          NaN  \n",
       "2  [{'@key': 'HKGroupFitness', '@value': '0'}, {'...     NaN          NaN  \n",
       "3  [{'@key': 'HKGroupFitness', '@value': '0'}, {'...     NaN          NaN  \n",
       "4  [{'@key': 'HKGroupFitness', '@value': '0'}, {'...     NaN          NaN  "
      ]
     },
     "execution_count": 26,
     "metadata": {},
     "output_type": "execute_result"
    }
   ],
   "source": [
    "# Workout data\n",
    "\n",
    "workout_list = input_data['HealthData']['Workout']\n",
    "health_data_workout = pd.DataFrame(workout_list)\n",
    "\n",
    "health_data_workout.head()"
   ]
  },
  {
   "cell_type": "code",
   "execution_count": 27,
   "metadata": {},
   "outputs": [
    {
     "data": {
      "text/plain": [
       "Index(['@workoutActivityType', '@duration', '@durationUnit', '@totalDistance',\n",
       "       '@totalDistanceUnit', '@totalEnergyBurned', '@totalEnergyBurnedUnit',\n",
       "       '@sourceName', '@sourceVersion', '@creationDate', '@startDate',\n",
       "       '@endDate', 'MetadataEntry', '@device', 'WorkoutEvent'],\n",
       "      dtype='object')"
      ]
     },
     "execution_count": 27,
     "metadata": {},
     "output_type": "execute_result"
    }
   ],
   "source": [
    "health_data_workout.columns"
   ]
  },
  {
   "cell_type": "code",
   "execution_count": 28,
   "metadata": {},
   "outputs": [
    {
     "data": {
      "text/plain": [
       "array(['HKWorkoutActivityTypeHighIntensityIntervalTraining',\n",
       "       'HKWorkoutActivityTypeRunning', 'HKWorkoutActivityTypeOther',\n",
       "       'HKWorkoutActivityTypeHiking'], dtype=object)"
      ]
     },
     "execution_count": 28,
     "metadata": {},
     "output_type": "execute_result"
    }
   ],
   "source": [
    "health_data_workout['@workoutActivityType'].unique()"
   ]
  },
  {
   "cell_type": "code",
   "execution_count": 29,
   "metadata": {},
   "outputs": [
    {
     "data": {
      "text/plain": [
       "array(['Seven', 'Runkeeper', 'Pratik’s Apple\\xa0Watch'], dtype=object)"
      ]
     },
     "execution_count": 29,
     "metadata": {},
     "output_type": "execute_result"
    }
   ],
   "source": [
    "health_data_workout['@sourceName'].unique()"
   ]
  },
  {
   "cell_type": "code",
   "execution_count": 30,
   "metadata": {},
   "outputs": [
    {
     "data": {
      "text/plain": [
       "array(['min'], dtype=object)"
      ]
     },
     "execution_count": 30,
     "metadata": {},
     "output_type": "execute_result"
    }
   ],
   "source": [
    "health_data_workout['@durationUnit'].unique()"
   ]
  },
  {
   "cell_type": "markdown",
   "metadata": {},
   "source": [
    "**Get data for each metric**"
   ]
  },
  {
   "cell_type": "code",
   "execution_count": 31,
   "metadata": {},
   "outputs": [],
   "source": [
    "# format timestamp data\n",
    "\n",
    "format = '%Y-%m-%d %H:%M:%S'\n",
    "health_data_workout['@creationDate'] = pd.to_datetime(health_data_workout['@creationDate'],\n",
    "                                     format=format)\n",
    "health_data_workout['@startDate'] = pd.to_datetime(health_data_workout['@startDate'],\n",
    "                                  format=format)\n",
    "health_data_workout['@endDate'] = pd.to_datetime(health_data_workout['@endDate'],\n",
    "                                format=format)"
   ]
  },
  {
   "cell_type": "code",
   "execution_count": 32,
   "metadata": {},
   "outputs": [
    {
     "data": {
      "text/plain": [
       "(41, 15)"
      ]
     },
     "execution_count": 32,
     "metadata": {},
     "output_type": "execute_result"
    }
   ],
   "source": [
    "health_data_workout.shape"
   ]
  },
  {
   "cell_type": "code",
   "execution_count": 33,
   "metadata": {},
   "outputs": [
    {
     "data": {
      "text/plain": [
       "(25, 15)"
      ]
     },
     "execution_count": 33,
     "metadata": {},
     "output_type": "execute_result"
    }
   ],
   "source": [
    "# take data points between August 1st, 2019 and December 1st, 2019\n",
    "start_date = '2019-08-01'\n",
    "end_date = '2019-12-01'\n",
    "fall_sem = (health_data_workout['@creationDate'] >= start_date) & (health_data_workout['@creationDate'] <= end_date)\n",
    "health_data_workout = health_data_workout.loc[fall_sem]\n",
    "health_data_workout.loc[fall_sem].shape"
   ]
  },
  {
   "cell_type": "code",
   "execution_count": 34,
   "metadata": {},
   "outputs": [],
   "source": [
    "activity_running = health_data_workout[health_data_workout['@workoutActivityType'] == 'HKWorkoutActivityTypeRunning']\n",
    "activity_hiking = health_data_workout[health_data_workout['@workoutActivityType'] == 'HKWorkoutActivityTypeHiking']"
   ]
  },
  {
   "cell_type": "code",
   "execution_count": 35,
   "metadata": {},
   "outputs": [],
   "source": [
    "metrics = ['@duration','@totalDistance','@totalEnergyBurned']\n",
    "for metric in metrics:\n",
    "    activity_running.loc[:, metric] = pd.to_numeric(activity_running.loc[:, metric])\n",
    "    activity_hiking.loc[:, metric] = pd.to_numeric(activity_hiking.loc[:, metric])\n",
    "    \n",
    "activity_running_by_creation = activity_running.groupby('@creationDate').mean()\n",
    "activity_hiking_by_creation = activity_hiking.groupby('@creationDate').mean()"
   ]
  },
  {
   "cell_type": "markdown",
   "metadata": {},
   "source": [
    "**Running data**"
   ]
  },
  {
   "cell_type": "code",
   "execution_count": 36,
   "metadata": {},
   "outputs": [
    {
     "data": {
      "text/html": [
       "<div>\n",
       "<style scoped>\n",
       "    .dataframe tbody tr th:only-of-type {\n",
       "        vertical-align: middle;\n",
       "    }\n",
       "\n",
       "    .dataframe tbody tr th {\n",
       "        vertical-align: top;\n",
       "    }\n",
       "\n",
       "    .dataframe thead th {\n",
       "        text-align: right;\n",
       "    }\n",
       "</style>\n",
       "<table border=\"1\" class=\"dataframe\">\n",
       "  <thead>\n",
       "    <tr style=\"text-align: right;\">\n",
       "      <th></th>\n",
       "      <th>@duration</th>\n",
       "      <th>@totalDistance</th>\n",
       "      <th>@totalEnergyBurned</th>\n",
       "    </tr>\n",
       "    <tr>\n",
       "      <th>@creationDate</th>\n",
       "      <th></th>\n",
       "      <th></th>\n",
       "      <th></th>\n",
       "    </tr>\n",
       "  </thead>\n",
       "  <tbody>\n",
       "    <tr>\n",
       "      <td>2019-08-04 10:54:05-07:00</td>\n",
       "      <td>32.383317</td>\n",
       "      <td>3.310203</td>\n",
       "      <td>385.180691</td>\n",
       "    </tr>\n",
       "    <tr>\n",
       "      <td>2019-08-07 18:02:25-07:00</td>\n",
       "      <td>26.799983</td>\n",
       "      <td>2.749978</td>\n",
       "      <td>318.985482</td>\n",
       "    </tr>\n",
       "    <tr>\n",
       "      <td>2019-09-10 17:56:06-07:00</td>\n",
       "      <td>22.973747</td>\n",
       "      <td>2.166914</td>\n",
       "      <td>177.415000</td>\n",
       "    </tr>\n",
       "    <tr>\n",
       "      <td>2019-09-14 18:09:31-07:00</td>\n",
       "      <td>5.899139</td>\n",
       "      <td>0.582452</td>\n",
       "      <td>47.518000</td>\n",
       "    </tr>\n",
       "    <tr>\n",
       "      <td>2019-09-22 17:39:19-07:00</td>\n",
       "      <td>10.487199</td>\n",
       "      <td>1.010994</td>\n",
       "      <td>82.511000</td>\n",
       "    </tr>\n",
       "  </tbody>\n",
       "</table>\n",
       "</div>"
      ],
      "text/plain": [
       "                           @duration  @totalDistance  @totalEnergyBurned\n",
       "@creationDate                                                           \n",
       "2019-08-04 10:54:05-07:00  32.383317        3.310203          385.180691\n",
       "2019-08-07 18:02:25-07:00  26.799983        2.749978          318.985482\n",
       "2019-09-10 17:56:06-07:00  22.973747        2.166914          177.415000\n",
       "2019-09-14 18:09:31-07:00   5.899139        0.582452           47.518000\n",
       "2019-09-22 17:39:19-07:00  10.487199        1.010994           82.511000"
      ]
     },
     "execution_count": 36,
     "metadata": {},
     "output_type": "execute_result"
    }
   ],
   "source": [
    "activity_running_by_creation.head()"
   ]
  },
  {
   "cell_type": "code",
   "execution_count": 37,
   "metadata": {},
   "outputs": [
    {
     "data": {
      "text/plain": [
       "@creationDate\n",
       "2019-08-04 00:00:00-07:00    3.310203\n",
       "2019-08-07 00:00:00-07:00    2.749978\n",
       "2019-09-10 00:00:00-07:00    2.166914\n",
       "2019-09-26 00:00:00-07:00    1.048091\n",
       "2019-09-25 00:00:00-07:00    1.016268\n",
       "Name: @totalDistance, dtype: float64"
      ]
     },
     "execution_count": 37,
     "metadata": {},
     "output_type": "execute_result"
    }
   ],
   "source": [
    "# running by total distance\n",
    "by_day = activity_running_by_creation['@totalDistance'].resample('D').mean()\n",
    "by_day.sort_values(ascending=False)[:5]"
   ]
  },
  {
   "cell_type": "code",
   "execution_count": 38,
   "metadata": {},
   "outputs": [
    {
     "data": {
      "text/plain": [
       "@creationDate\n",
       "2019-08-31 00:00:00-07:00    3.030091\n",
       "2019-09-30 00:00:00-07:00    1.107171\n",
       "2019-10-31 00:00:00-07:00    0.622946\n",
       "Name: @totalDistance, dtype: float64"
      ]
     },
     "execution_count": 38,
     "metadata": {},
     "output_type": "execute_result"
    }
   ],
   "source": [
    "means_by_distinct_month = by_day.resample('M').mean()\n",
    "means_by_distinct_month.sort_values(ascending=False)"
   ]
  },
  {
   "cell_type": "code",
   "execution_count": 39,
   "metadata": {},
   "outputs": [
    {
     "data": {
      "text/plain": [
       "<matplotlib.axes._subplots.AxesSubplot at 0x1211d2b10>"
      ]
     },
     "execution_count": 39,
     "metadata": {},
     "output_type": "execute_result"
    },
    {
     "data": {
      "image/png": "[encoded data removed]",
      "text/plain": [
       "<Figure size 432x288 with 1 Axes>"
      ]
     },
     "metadata": {
      "needs_background": "light"
     },
     "output_type": "display_data"
    }
   ],
   "source": [
    "means_by_month = means_by_distinct_month.groupby(\n",
    "    means_by_distinct_month.index.month).mean()\n",
    "means_by_month.index = list(calendar.month_name)[8:11]\n",
    "means_by_month.plot(kind='bar')"
   ]
  },
  {
   "cell_type": "code",
   "execution_count": 40,
   "metadata": {},
   "outputs": [
    {
     "data": {
      "text/plain": [
       "<matplotlib.axes._subplots.AxesSubplot at 0x1213b2b90>"
      ]
     },
     "execution_count": 40,
     "metadata": {},
     "output_type": "execute_result"
    },
    {
     "data": {
      "image/png": "[encoded data removed]",
      "text/plain": [
       "<Figure size 432x288 with 1 Axes>"
      ]
     },
     "metadata": {
      "needs_background": "light"
     },
     "output_type": "display_data"
    }
   ],
   "source": [
    "means_by_weekday = by_day.groupby(by_day.index.dayofweek).mean()\n",
    "means_by_weekday.index = ['Monday', 'Tuesday',\n",
    "                          'Wednesday', 'Thursday',\n",
    "                          'Friday', 'Saturday',\n",
    "                          'Sunday']   \n",
    "means_by_weekday.plot(kind='bar')"
   ]
  },
  {
   "cell_type": "markdown",
   "metadata": {},
   "source": [
    "**Hiking Data**"
   ]
  },
  {
   "cell_type": "code",
   "execution_count": 41,
   "metadata": {},
   "outputs": [
    {
     "data": {
      "text/html": [
       "<div>\n",
       "<style scoped>\n",
       "    .dataframe tbody tr th:only-of-type {\n",
       "        vertical-align: middle;\n",
       "    }\n",
       "\n",
       "    .dataframe tbody tr th {\n",
       "        vertical-align: top;\n",
       "    }\n",
       "\n",
       "    .dataframe thead th {\n",
       "        text-align: right;\n",
       "    }\n",
       "</style>\n",
       "<table border=\"1\" class=\"dataframe\">\n",
       "  <thead>\n",
       "    <tr style=\"text-align: right;\">\n",
       "      <th></th>\n",
       "      <th>@duration</th>\n",
       "      <th>@totalDistance</th>\n",
       "      <th>@totalEnergyBurned</th>\n",
       "    </tr>\n",
       "    <tr>\n",
       "      <th>@creationDate</th>\n",
       "      <th></th>\n",
       "      <th></th>\n",
       "      <th></th>\n",
       "    </tr>\n",
       "  </thead>\n",
       "  <tbody>\n",
       "    <tr>\n",
       "      <td>2019-08-17 16:24:53-07:00</td>\n",
       "      <td>134.176196</td>\n",
       "      <td>0.000000</td>\n",
       "      <td>684.581000</td>\n",
       "    </tr>\n",
       "    <tr>\n",
       "      <td>2019-09-01 10:12:06-07:00</td>\n",
       "      <td>60.007283</td>\n",
       "      <td>0.000000</td>\n",
       "      <td>362.952000</td>\n",
       "    </tr>\n",
       "    <tr>\n",
       "      <td>2019-09-07 16:16:50-07:00</td>\n",
       "      <td>15.512026</td>\n",
       "      <td>0.000000</td>\n",
       "      <td>93.954000</td>\n",
       "    </tr>\n",
       "    <tr>\n",
       "      <td>2019-09-08 07:23:59-07:00</td>\n",
       "      <td>75.183117</td>\n",
       "      <td>2.827577</td>\n",
       "      <td>305.020357</td>\n",
       "    </tr>\n",
       "    <tr>\n",
       "      <td>2019-09-08 07:29:13-07:00</td>\n",
       "      <td>51.045472</td>\n",
       "      <td>0.000000</td>\n",
       "      <td>224.056000</td>\n",
       "    </tr>\n",
       "  </tbody>\n",
       "</table>\n",
       "</div>"
      ],
      "text/plain": [
       "                            @duration  @totalDistance  @totalEnergyBurned\n",
       "@creationDate                                                            \n",
       "2019-08-17 16:24:53-07:00  134.176196        0.000000          684.581000\n",
       "2019-09-01 10:12:06-07:00   60.007283        0.000000          362.952000\n",
       "2019-09-07 16:16:50-07:00   15.512026        0.000000           93.954000\n",
       "2019-09-08 07:23:59-07:00   75.183117        2.827577          305.020357\n",
       "2019-09-08 07:29:13-07:00   51.045472        0.000000          224.056000"
      ]
     },
     "execution_count": 41,
     "metadata": {},
     "output_type": "execute_result"
    }
   ],
   "source": [
    "activity_hiking_by_creation.head()"
   ]
  },
  {
   "cell_type": "code",
   "execution_count": 42,
   "metadata": {},
   "outputs": [
    {
     "data": {
      "text/plain": [
       "@creationDate\n",
       "2019-11-02 00:00:00-07:00    2.386730\n",
       "2019-09-08 00:00:00-07:00    1.851905\n",
       "2019-11-23 00:00:00-07:00    0.198080\n",
       "2019-11-29 00:00:00-07:00    0.000000\n",
       "2019-09-07 00:00:00-07:00    0.000000\n",
       "Name: @totalDistance, dtype: float64"
      ]
     },
     "execution_count": 42,
     "metadata": {},
     "output_type": "execute_result"
    }
   ],
   "source": [
    "# hiking by total distance\n",
    "by_day = activity_hiking_by_creation['@totalDistance'].resample('D').mean()\n",
    "by_day.sort_values(ascending=False)[:5]"
   ]
  },
  {
   "cell_type": "code",
   "execution_count": 43,
   "metadata": {},
   "outputs": [
    {
     "data": {
      "text/plain": [
       "@creationDate\n",
       "2019-11-30 00:00:00-07:00    0.861603\n",
       "2019-09-30 00:00:00-07:00    0.617302\n",
       "2019-08-31 00:00:00-07:00    0.000000\n",
       "2019-10-31 00:00:00-07:00         NaN\n",
       "Name: @totalDistance, dtype: float64"
      ]
     },
     "execution_count": 43,
     "metadata": {},
     "output_type": "execute_result"
    }
   ],
   "source": [
    "means_by_distinct_month = by_day.resample('M').mean()\n",
    "means_by_distinct_month.sort_values(ascending=False)"
   ]
  },
  {
   "cell_type": "code",
   "execution_count": 44,
   "metadata": {},
   "outputs": [
    {
     "data": {
      "text/plain": [
       "<matplotlib.axes._subplots.AxesSubplot at 0x121701b10>"
      ]
     },
     "execution_count": 44,
     "metadata": {},
     "output_type": "execute_result"
    },
    {
     "data": {
      "image/png": "[encoded data removed]",
      "text/plain": [
       "<Figure size 432x288 with 1 Axes>"
      ]
     },
     "metadata": {
      "needs_background": "light"
     },
     "output_type": "display_data"
    }
   ],
   "source": [
    "means_by_month = means_by_distinct_month.groupby(\n",
    "    means_by_distinct_month.index.month).mean()\n",
    "means_by_month.index = list(calendar.month_name)[8:12]\n",
    "means_by_month.plot(kind='bar')"
   ]
  },
  {
   "cell_type": "code",
   "execution_count": 45,
   "metadata": {},
   "outputs": [
    {
     "data": {
      "text/plain": [
       "<matplotlib.axes._subplots.AxesSubplot at 0x1219376d0>"
      ]
     },
     "execution_count": 45,
     "metadata": {},
     "output_type": "execute_result"
    },
    {
     "data": {
      "image/png": "[encoded data removed]",
      "text/plain": [
       "<Figure size 432x288 with 1 Axes>"
      ]
     },
     "metadata": {
      "needs_background": "light"
     },
     "output_type": "display_data"
    }
   ],
   "source": [
    "means_by_weekday = by_day.groupby(by_day.index.dayofweek).mean()\n",
    "means_by_weekday.index = ['Monday', 'Tuesday',\n",
    "                          'Wednesday', 'Thursday',\n",
    "                          'Friday', 'Saturday',\n",
    "                          'Sunday']   \n",
    "means_by_weekday.plot(kind='bar')"
   ]
  },
  {
   "cell_type": "code",
   "execution_count": 46,
   "metadata": {},
   "outputs": [
    {
     "data": {
      "text/html": [
       "<div>\n",
       "<style scoped>\n",
       "    .dataframe tbody tr th:only-of-type {\n",
       "        vertical-align: middle;\n",
       "    }\n",
       "\n",
       "    .dataframe tbody tr th {\n",
       "        vertical-align: top;\n",
       "    }\n",
       "\n",
       "    .dataframe thead th {\n",
       "        text-align: right;\n",
       "    }\n",
       "</style>\n",
       "<table border=\"1\" class=\"dataframe\">\n",
       "  <thead>\n",
       "    <tr style=\"text-align: right;\">\n",
       "      <th></th>\n",
       "      <th>@dateComponents</th>\n",
       "      <th>@activeEnergyBurned</th>\n",
       "      <th>@activeEnergyBurnedGoal</th>\n",
       "      <th>@activeEnergyBurnedUnit</th>\n",
       "      <th>@appleExerciseTime</th>\n",
       "      <th>@appleExerciseTimeGoal</th>\n",
       "      <th>@appleStandHours</th>\n",
       "      <th>@appleStandHoursGoal</th>\n",
       "    </tr>\n",
       "  </thead>\n",
       "  <tbody>\n",
       "    <tr>\n",
       "      <td>0</td>\n",
       "      <td>2019-01-11</td>\n",
       "      <td>0</td>\n",
       "      <td>0</td>\n",
       "      <td>kcal</td>\n",
       "      <td>0</td>\n",
       "      <td>30</td>\n",
       "      <td>0</td>\n",
       "      <td>12</td>\n",
       "    </tr>\n",
       "    <tr>\n",
       "      <td>1</td>\n",
       "      <td>2019-01-12</td>\n",
       "      <td>78.578</td>\n",
       "      <td>650</td>\n",
       "      <td>kcal</td>\n",
       "      <td>2</td>\n",
       "      <td>30</td>\n",
       "      <td>3</td>\n",
       "      <td>12</td>\n",
       "    </tr>\n",
       "    <tr>\n",
       "      <td>2</td>\n",
       "      <td>2019-01-13</td>\n",
       "      <td>267.696</td>\n",
       "      <td>650</td>\n",
       "      <td>kcal</td>\n",
       "      <td>23</td>\n",
       "      <td>30</td>\n",
       "      <td>5</td>\n",
       "      <td>12</td>\n",
       "    </tr>\n",
       "    <tr>\n",
       "      <td>3</td>\n",
       "      <td>2019-01-14</td>\n",
       "      <td>323.892</td>\n",
       "      <td>500</td>\n",
       "      <td>kcal</td>\n",
       "      <td>29</td>\n",
       "      <td>30</td>\n",
       "      <td>9</td>\n",
       "      <td>12</td>\n",
       "    </tr>\n",
       "    <tr>\n",
       "      <td>4</td>\n",
       "      <td>2019-01-15</td>\n",
       "      <td>233.621</td>\n",
       "      <td>400</td>\n",
       "      <td>kcal</td>\n",
       "      <td>15</td>\n",
       "      <td>30</td>\n",
       "      <td>10</td>\n",
       "      <td>12</td>\n",
       "    </tr>\n",
       "  </tbody>\n",
       "</table>\n",
       "</div>"
      ],
      "text/plain": [
       "  @dateComponents @activeEnergyBurned @activeEnergyBurnedGoal  \\\n",
       "0      2019-01-11                   0                       0   \n",
       "1      2019-01-12              78.578                     650   \n",
       "2      2019-01-13             267.696                     650   \n",
       "3      2019-01-14             323.892                     500   \n",
       "4      2019-01-15             233.621                     400   \n",
       "\n",
       "  @activeEnergyBurnedUnit @appleExerciseTime @appleExerciseTimeGoal  \\\n",
       "0                    kcal                  0                     30   \n",
       "1                    kcal                  2                     30   \n",
       "2                    kcal                 23                     30   \n",
       "3                    kcal                 29                     30   \n",
       "4                    kcal                 15                     30   \n",
       "\n",
       "  @appleStandHours @appleStandHoursGoal  \n",
       "0                0                   12  \n",
       "1                3                   12  \n",
       "2                5                   12  \n",
       "3                9                   12  \n",
       "4               10                   12  "
      ]
     },
     "execution_count": 46,
     "metadata": {},
     "output_type": "execute_result"
    }
   ],
   "source": [
    "# activity summary\n",
    "\n",
    "activity_summary_list = input_data['HealthData']['ActivitySummary']\n",
    "health_data_activity = pd.DataFrame(activity_summary_list)\n",
    "\n",
    "health_data_activity.head()"
   ]
  },
  {
   "cell_type": "code",
   "execution_count": 47,
   "metadata": {},
   "outputs": [
    {
     "data": {
      "text/plain": [
       "Index(['@dateComponents', '@activeEnergyBurned', '@activeEnergyBurnedGoal',\n",
       "       '@activeEnergyBurnedUnit', '@appleExerciseTime',\n",
       "       '@appleExerciseTimeGoal', '@appleStandHours', '@appleStandHoursGoal'],\n",
       "      dtype='object')"
      ]
     },
     "execution_count": 47,
     "metadata": {},
     "output_type": "execute_result"
    }
   ],
   "source": [
    "health_data_activity.columns"
   ]
  },
  {
   "cell_type": "code",
   "execution_count": 48,
   "metadata": {},
   "outputs": [],
   "source": [
    "# format timestamp data\n",
    "\n",
    "format = '%Y-%m-%d %H:%M:%S'\n",
    "health_data_activity['@dateComponents'] = pd.to_datetime(health_data_activity['@dateComponents'],\n",
    "                                     format=format)"
   ]
  },
  {
   "cell_type": "code",
   "execution_count": 49,
   "metadata": {},
   "outputs": [
    {
     "data": {
      "text/plain": [
       "(325, 8)"
      ]
     },
     "execution_count": 49,
     "metadata": {},
     "output_type": "execute_result"
    }
   ],
   "source": [
    "health_data_activity.shape"
   ]
  },
  {
   "cell_type": "code",
   "execution_count": 50,
   "metadata": {},
   "outputs": [
    {
     "data": {
      "text/plain": [
       "(118, 8)"
      ]
     },
     "execution_count": 50,
     "metadata": {},
     "output_type": "execute_result"
    }
   ],
   "source": [
    "# take data points between August 1st, 2019 and December 1st, 2019\n",
    "start_date = '2019-08-01'\n",
    "end_date = '2019-11-30'\n",
    "fall_sem = (health_data_activity['@dateComponents'] >= start_date) & (health_data_activity['@dateComponents'] <= end_date)\n",
    "health_data_activity = health_data_activity.loc[fall_sem]\n",
    "health_data_activity.loc[fall_sem].shape"
   ]
  },
  {
   "cell_type": "code",
   "execution_count": 51,
   "metadata": {},
   "outputs": [
    {
     "data": {
      "text/plain": [
       "array(['kcal'], dtype=object)"
      ]
     },
     "execution_count": 51,
     "metadata": {},
     "output_type": "execute_result"
    }
   ],
   "source": [
    "health_data_activity['@activeEnergyBurnedUnit'].unique()"
   ]
  },
  {
   "cell_type": "code",
   "execution_count": 52,
   "metadata": {},
   "outputs": [],
   "source": [
    "metrics = ['@activeEnergyBurned', '@activeEnergyBurnedGoal', '@appleExerciseTime',\n",
    "           '@appleExerciseTimeGoal', '@appleStandHours', '@appleStandHoursGoal']\n",
    "for metric in metrics:\n",
    "    health_data_activity.loc[:, metric] = pd.to_numeric(health_data_activity.loc[:, metric])\n",
    "    health_data_activity.loc[:, metric] = pd.to_numeric(health_data_activity.loc[:, metric])\n",
    "    \n",
    "health_data_activity_by_date = health_data_activity.groupby('@dateComponents').mean()"
   ]
  },
  {
   "cell_type": "code",
   "execution_count": 53,
   "metadata": {},
   "outputs": [
    {
     "data": {
      "text/html": [
       "<div>\n",
       "<style scoped>\n",
       "    .dataframe tbody tr th:only-of-type {\n",
       "        vertical-align: middle;\n",
       "    }\n",
       "\n",
       "    .dataframe tbody tr th {\n",
       "        vertical-align: top;\n",
       "    }\n",
       "\n",
       "    .dataframe thead th {\n",
       "        text-align: right;\n",
       "    }\n",
       "</style>\n",
       "<table border=\"1\" class=\"dataframe\">\n",
       "  <thead>\n",
       "    <tr style=\"text-align: right;\">\n",
       "      <th></th>\n",
       "      <th>@activeEnergyBurned</th>\n",
       "      <th>@activeEnergyBurnedGoal</th>\n",
       "      <th>@appleExerciseTime</th>\n",
       "      <th>@appleExerciseTimeGoal</th>\n",
       "      <th>@appleStandHours</th>\n",
       "      <th>@appleStandHoursGoal</th>\n",
       "    </tr>\n",
       "    <tr>\n",
       "      <th>@dateComponents</th>\n",
       "      <th></th>\n",
       "      <th></th>\n",
       "      <th></th>\n",
       "      <th></th>\n",
       "      <th></th>\n",
       "      <th></th>\n",
       "    </tr>\n",
       "  </thead>\n",
       "  <tbody>\n",
       "    <tr>\n",
       "      <td>2019-08-01</td>\n",
       "      <td>143.088</td>\n",
       "      <td>300</td>\n",
       "      <td>3</td>\n",
       "      <td>30</td>\n",
       "      <td>3</td>\n",
       "      <td>12</td>\n",
       "    </tr>\n",
       "    <tr>\n",
       "      <td>2019-08-02</td>\n",
       "      <td>351.839</td>\n",
       "      <td>300</td>\n",
       "      <td>34</td>\n",
       "      <td>30</td>\n",
       "      <td>10</td>\n",
       "      <td>12</td>\n",
       "    </tr>\n",
       "    <tr>\n",
       "      <td>2019-08-03</td>\n",
       "      <td>276.225</td>\n",
       "      <td>300</td>\n",
       "      <td>18</td>\n",
       "      <td>30</td>\n",
       "      <td>9</td>\n",
       "      <td>12</td>\n",
       "    </tr>\n",
       "    <tr>\n",
       "      <td>2019-08-04</td>\n",
       "      <td>594.588</td>\n",
       "      <td>300</td>\n",
       "      <td>73</td>\n",
       "      <td>30</td>\n",
       "      <td>11</td>\n",
       "      <td>12</td>\n",
       "    </tr>\n",
       "    <tr>\n",
       "      <td>2019-08-05</td>\n",
       "      <td>114.219</td>\n",
       "      <td>300</td>\n",
       "      <td>10</td>\n",
       "      <td>30</td>\n",
       "      <td>5</td>\n",
       "      <td>12</td>\n",
       "    </tr>\n",
       "  </tbody>\n",
       "</table>\n",
       "</div>"
      ],
      "text/plain": [
       "                 @activeEnergyBurned  @activeEnergyBurnedGoal  \\\n",
       "@dateComponents                                                 \n",
       "2019-08-01                   143.088                      300   \n",
       "2019-08-02                   351.839                      300   \n",
       "2019-08-03                   276.225                      300   \n",
       "2019-08-04                   594.588                      300   \n",
       "2019-08-05                   114.219                      300   \n",
       "\n",
       "                 @appleExerciseTime  @appleExerciseTimeGoal  @appleStandHours  \\\n",
       "@dateComponents                                                                 \n",
       "2019-08-01                        3                      30                 3   \n",
       "2019-08-02                       34                      30                10   \n",
       "2019-08-03                       18                      30                 9   \n",
       "2019-08-04                       73                      30                11   \n",
       "2019-08-05                       10                      30                 5   \n",
       "\n",
       "                 @appleStandHoursGoal  \n",
       "@dateComponents                        \n",
       "2019-08-01                         12  \n",
       "2019-08-02                         12  \n",
       "2019-08-03                         12  \n",
       "2019-08-04                         12  \n",
       "2019-08-05                         12  "
      ]
     },
     "execution_count": 53,
     "metadata": {},
     "output_type": "execute_result"
    }
   ],
   "source": [
    "health_data_activity_by_date.head()"
   ]
  },
  {
   "cell_type": "code",
   "execution_count": 54,
   "metadata": {},
   "outputs": [
    {
     "data": {
      "text/plain": [
       "@dateComponents\n",
       "2019-09-30    410.901333\n",
       "2019-08-31    335.455133\n",
       "2019-11-30    294.834071\n",
       "2019-10-31    281.548133\n",
       "Name: @activeEnergyBurned, dtype: float64"
      ]
     },
     "execution_count": 54,
     "metadata": {},
     "output_type": "execute_result"
    }
   ],
   "source": [
    "means_by_distinct_month = health_data_activity_by_date['@activeEnergyBurned'].resample('M').mean()\n",
    "means_by_distinct_month.sort_values(ascending=False)"
   ]
  },
  {
   "cell_type": "code",
   "execution_count": 55,
   "metadata": {},
   "outputs": [
    {
     "data": {
      "text/plain": [
       "<matplotlib.axes._subplots.AxesSubplot at 0x121c4ffd0>"
      ]
     },
     "execution_count": 55,
     "metadata": {},
     "output_type": "execute_result"
    },
    {
     "data": {
      "image/png": "[encoded data removed]",
      "text/plain": [
       "<Figure size 432x288 with 1 Axes>"
      ]
     },
     "metadata": {
      "needs_background": "light"
     },
     "output_type": "display_data"
    }
   ],
   "source": [
    "means_by_month = means_by_distinct_month.groupby(\n",
    "    means_by_distinct_month.index.month).mean()\n",
    "means_by_month.index = list(calendar.month_name)[8:12]\n",
    "means_by_month.plot(kind='bar')"
   ]
  },
  {
   "cell_type": "code",
   "execution_count": 56,
   "metadata": {},
   "outputs": [
    {
     "data": {
      "text/plain": [
       "<matplotlib.axes._subplots.AxesSubplot at 0x121d8f450>"
      ]
     },
     "execution_count": 56,
     "metadata": {},
     "output_type": "execute_result"
    },
    {
     "data": {
      "image/png": "[encoded data removed]",
      "text/plain": [
       "<Figure size 432x288 with 1 Axes>"
      ]
     },
     "metadata": {
      "needs_background": "light"
     },
     "output_type": "display_data"
    }
   ],
   "source": [
    "means_by_weekday = health_data_activity_by_date['@activeEnergyBurned'].groupby(health_data_activity_by_date['@activeEnergyBurned'].index.dayofweek).mean()\n",
    "means_by_weekday.index = ['Monday', 'Tuesday',\n",
    "                          'Wednesday', 'Thursday',\n",
    "                          'Friday', 'Saturday',\n",
    "                          'Sunday']   \n",
    "means_by_weekday.plot(kind='bar')"
   ]
  },
  {
   "cell_type": "code",
   "execution_count": 57,
   "metadata": {},
   "outputs": [],
   "source": [
    "data = [health_data_activity,health_data,health_data_workout]"
   ]
  },
  {
   "cell_type": "code",
   "execution_count": 58,
   "metadata": {},
   "outputs": [
    {
     "name": "stdout",
     "output_type": "stream",
     "text": [
      "    @dateComponents  @activeEnergyBurned  @activeEnergyBurnedGoal  \\\n",
      "199      2019-08-01              143.088                      300   \n",
      "200      2019-08-02              351.839                      300   \n",
      "201      2019-08-03              276.225                      300   \n",
      "202      2019-08-04              594.588                      300   \n",
      "203      2019-08-05              114.219                      300   \n",
      "..              ...                  ...                      ...   \n",
      "312      2019-11-24               91.715                      380   \n",
      "313      2019-11-27                0.000                      380   \n",
      "314      2019-11-28               69.608                      380   \n",
      "315      2019-11-29              515.149                      380   \n",
      "316      2019-11-30              199.493                      380   \n",
      "\n",
      "    @activeEnergyBurnedUnit  @appleExerciseTime  @appleExerciseTimeGoal  \\\n",
      "199                    kcal                   3                      30   \n",
      "200                    kcal                  34                      30   \n",
      "201                    kcal                  18                      30   \n",
      "202                    kcal                  73                      30   \n",
      "203                    kcal                  10                      30   \n",
      "..                      ...                 ...                     ...   \n",
      "312                    kcal                   7                      30   \n",
      "313                    kcal                   0                      30   \n",
      "314                    kcal                   4                      30   \n",
      "315                    kcal                  87                      30   \n",
      "316                    kcal                  19                      30   \n",
      "\n",
      "     @appleStandHours  @appleStandHoursGoal  \n",
      "199                 3                    12  \n",
      "200                10                    12  \n",
      "201                 9                    12  \n",
      "202                11                    12  \n",
      "203                 5                    12  \n",
      "..                ...                   ...  \n",
      "312                 3                    12  \n",
      "313                 0                    12  \n",
      "314                 2                    12  \n",
      "315                 8                    12  \n",
      "316                 5                    12  \n",
      "\n",
      "[118 rows x 8 columns] (118, 8)\n",
      "                                         @type           @sourceName  \\\n",
      "16470        HKQuantityTypeIdentifierHeartRate  Pratik’s Apple Watch   \n",
      "16471        HKQuantityTypeIdentifierHeartRate  Pratik’s Apple Watch   \n",
      "16472        HKQuantityTypeIdentifierHeartRate  Pratik’s Apple Watch   \n",
      "16473        HKQuantityTypeIdentifierHeartRate  Pratik’s Apple Watch   \n",
      "16474        HKQuantityTypeIdentifierHeartRate  Pratik’s Apple Watch   \n",
      "...                                        ...                   ...   \n",
      "341595  HKCategoryTypeIdentifierAppleStandHour  Pratik’s Apple Watch   \n",
      "341596  HKCategoryTypeIdentifierAppleStandHour  Pratik’s Apple Watch   \n",
      "341597  HKCategoryTypeIdentifierAppleStandHour  Pratik’s Apple Watch   \n",
      "341598  HKCategoryTypeIdentifierAppleStandHour  Pratik’s Apple Watch   \n",
      "341599  HKCategoryTypeIdentifierAppleStandHour  Pratik’s Apple Watch   \n",
      "\n",
      "       @sourceVersion      @unit             @creationDate  \\\n",
      "16470           4.3.2  count/min 2019-08-01 00:00:44-07:00   \n",
      "16471           4.3.2  count/min 2019-08-01 00:05:52-07:00   \n",
      "16472           4.3.2  count/min 2019-08-01 00:11:58-07:00   \n",
      "16473           4.3.2  count/min 2019-08-01 00:18:21-07:00   \n",
      "16474           4.3.2  count/min 2019-08-01 00:20:39-07:00   \n",
      "...               ...        ...                       ...   \n",
      "341595          4.3.2        NaN 2019-11-30 08:01:14-07:00   \n",
      "341596          4.3.2        NaN 2019-11-30 09:01:00-07:00   \n",
      "341597          4.3.2        NaN 2019-11-30 09:53:41-07:00   \n",
      "341598          4.3.2        NaN 2019-11-30 10:03:23-07:00   \n",
      "341599          4.3.2        NaN 2019-11-30 11:17:46-07:00   \n",
      "\n",
      "                      @startDate                  @endDate  \\\n",
      "16470  2019-07-31 23:57:04-07:00 2019-07-31 23:57:04-07:00   \n",
      "16471  2019-08-01 00:00:27-07:00 2019-08-01 00:00:27-07:00   \n",
      "16472  2019-08-01 00:05:18-07:00 2019-08-01 00:05:18-07:00   \n",
      "16473  2019-08-01 00:15:15-07:00 2019-08-01 00:15:15-07:00   \n",
      "16474  2019-08-01 00:17:52-07:00 2019-08-01 00:17:52-07:00   \n",
      "...                          ...                       ...   \n",
      "341595 2019-11-30 07:00:00-07:00 2019-11-30 08:00:00-07:00   \n",
      "341596 2019-11-30 08:00:00-07:00 2019-11-30 09:00:00-07:00   \n",
      "341597 2019-11-30 09:00:00-07:00 2019-11-30 10:00:00-07:00   \n",
      "341598 2019-11-30 10:00:00-07:00 2019-11-30 11:00:00-07:00   \n",
      "341599 2019-11-30 11:00:00-07:00 2019-11-30 12:00:00-07:00   \n",
      "\n",
      "                                    @value  \\\n",
      "16470                                   74   \n",
      "16471                                   67   \n",
      "16472                                   65   \n",
      "16473                                   90   \n",
      "16474                                   66   \n",
      "...                                    ...   \n",
      "341595   HKCategoryValueAppleStandHourIdle   \n",
      "341596   HKCategoryValueAppleStandHourIdle   \n",
      "341597  HKCategoryValueAppleStandHourStood   \n",
      "341598  HKCategoryValueAppleStandHourStood   \n",
      "341599  HKCategoryValueAppleStandHourStood   \n",
      "\n",
      "                                                  @device  \\\n",
      "16470   <<HKDevice: 0x280f0cf00>, name:Apple Watch, ma...   \n",
      "16471   <<HKDevice: 0x280f0cfa0>, name:Apple Watch, ma...   \n",
      "16472   <<HKDevice: 0x280f0d040>, name:Apple Watch, ma...   \n",
      "16473   <<HKDevice: 0x280f0d0e0>, name:Apple Watch, ma...   \n",
      "16474   <<HKDevice: 0x280f0d180>, name:Apple Watch, ma...   \n",
      "...                                                   ...   \n",
      "341595  <<HKDevice: 0x280f38be0>, name:Apple Watch, ma...   \n",
      "341596  <<HKDevice: 0x280f38c80>, name:Apple Watch, ma...   \n",
      "341597  <<HKDevice: 0x280f38a50>, name:Apple Watch, ma...   \n",
      "341598  <<HKDevice: 0x280f38960>, name:Apple Watch, ma...   \n",
      "341599  <<HKDevice: 0x280f38c30>, name:Apple Watch, ma...   \n",
      "\n",
      "                                            MetadataEntry  \\\n",
      "16470   {'@key': 'HKMetadataKeyHeartRateMotionContext'...   \n",
      "16471   {'@key': 'HKMetadataKeyHeartRateMotionContext'...   \n",
      "16472   {'@key': 'HKMetadataKeyHeartRateMotionContext'...   \n",
      "16473   {'@key': 'HKMetadataKeyHeartRateMotionContext'...   \n",
      "16474   {'@key': 'HKMetadataKeyHeartRateMotionContext'...   \n",
      "...                                                   ...   \n",
      "341595                                                NaN   \n",
      "341596                                                NaN   \n",
      "341597                                                NaN   \n",
      "341598                                                NaN   \n",
      "341599                                                NaN   \n",
      "\n",
      "       HeartRateVariabilityMetadataList  \n",
      "16470                               NaN  \n",
      "16471                               NaN  \n",
      "16472                               NaN  \n",
      "16473                               NaN  \n",
      "16474                               NaN  \n",
      "...                                 ...  \n",
      "341595                              NaN  \n",
      "341596                              NaN  \n",
      "341597                              NaN  \n",
      "341598                              NaN  \n",
      "341599                              NaN  \n",
      "\n",
      "[134039 rows x 11 columns] (134039, 11)\n",
      "                                 @workoutActivityType          @duration  \\\n",
      "16                       HKWorkoutActivityTypeRunning  32.38331666666667   \n",
      "17                       HKWorkoutActivityTypeRunning  26.79998333333333   \n",
      "18  HKWorkoutActivityTypeHighIntensityIntervalTrai...  7.883333333333334   \n",
      "19                         HKWorkoutActivityTypeOther  76.28384960095087   \n",
      "20                        HKWorkoutActivityTypeHiking  134.1761964678764   \n",
      "21                        HKWorkoutActivityTypeHiking  60.00728270014127   \n",
      "22                        HKWorkoutActivityTypeHiking  67.44998333333334   \n",
      "23                        HKWorkoutActivityTypeHiking  15.51202623446782   \n",
      "24                        HKWorkoutActivityTypeHiking  75.18311666666666   \n",
      "25                        HKWorkoutActivityTypeHiking   51.0454720000426   \n",
      "26                       HKWorkoutActivityTypeRunning  22.97374689976374   \n",
      "27                       HKWorkoutActivityTypeRunning  5.899139300982157   \n",
      "28                       HKWorkoutActivityTypeRunning  10.48719913363457   \n",
      "29                       HKWorkoutActivityTypeRunning  9.496373567978541   \n",
      "30                       HKWorkoutActivityTypeRunning     10.13388890028   \n",
      "31                       HKWorkoutActivityTypeRunning  10.24868191480637   \n",
      "32                       HKWorkoutActivityTypeRunning  10.49015744924545   \n",
      "33                       HKWorkoutActivityTypeRunning  10.39207010070483   \n",
      "34                       HKWorkoutActivityTypeRunning   7.83011314868927   \n",
      "35                       HKWorkoutActivityTypeRunning  5.670880800485611   \n",
      "36                       HKWorkoutActivityTypeRunning  6.914110533396403   \n",
      "37                        HKWorkoutActivityTypeHiking  81.19996666666665   \n",
      "38                        HKWorkoutActivityTypeHiking  9.778999999999996   \n",
      "39                        HKWorkoutActivityTypeHiking    66.008307381471   \n",
      "40                        HKWorkoutActivityTypeHiking  56.54794451594353   \n",
      "\n",
      "   @durationUnit      @totalDistance @totalDistanceUnit @totalEnergyBurned  \\\n",
      "16           min   3.310203427347302                 mi  385.1806912110745   \n",
      "17           min   2.749978094334219                 mi  318.9854819393469   \n",
      "18           min                   0                 mi                  0   \n",
      "19           min                   0                 mi  358.1029999999988   \n",
      "20           min                   0                 mi  684.5810000000042   \n",
      "21           min                   0                 mi  362.9520000000026   \n",
      "22           min   2.728138695552339                 mi                325   \n",
      "23           min                   0                 mi  93.95400000000048   \n",
      "24           min   2.827577145484909                 mi  305.0203569579605   \n",
      "25           min                   0                 mi  224.0559999999986   \n",
      "26           min   2.166913976568192                 mi  177.4149999999998   \n",
      "27           min  0.5824521843186392                 mi  47.51799999999995   \n",
      "28           min   1.010994242604852                 mi  82.51099999999994   \n",
      "29           min    1.00835258071263                 mi  84.61600000000007   \n",
      "30           min   1.009804593769001                 mi  82.68699999999998   \n",
      "31           min   1.016268007185853                 mi  82.81699999999994   \n",
      "32           min    1.04809051311664                 mi  86.47599999999991   \n",
      "33           min   1.014492337247733                 mi  82.85699999999986   \n",
      "34           min  0.7297032672770438                 mi  59.43199999999999   \n",
      "35           min  0.5377172057223848                 mi  43.05600000000003   \n",
      "36           min  0.6121814403249262                 mi  48.13999999999999   \n",
      "37           min   2.386729838882501                 mi  276.2363812075459   \n",
      "38           min  0.3961606737343928                 mi  43.43768267954972   \n",
      "39           min                   0                 mi   314.390999999999   \n",
      "40           min                   0                 mi  211.8419999999963   \n",
      "\n",
      "   @totalEnergyBurnedUnit           @sourceName @sourceVersion  \\\n",
      "16                   kcal             Runkeeper           5891   \n",
      "17                   kcal             Runkeeper           6000   \n",
      "18                   kcal                 Seven        8.2.9.2   \n",
      "19                   kcal  Pratik’s Apple Watch          4.3.2   \n",
      "20                   kcal  Pratik’s Apple Watch          4.3.2   \n",
      "21                   kcal  Pratik’s Apple Watch          4.3.2   \n",
      "22                   kcal             Runkeeper           6535   \n",
      "23                   kcal  Pratik’s Apple Watch          4.3.2   \n",
      "24                   kcal             Runkeeper           6535   \n",
      "25                   kcal  Pratik’s Apple Watch          4.3.2   \n",
      "26                   kcal  Pratik’s Apple Watch          4.3.2   \n",
      "27                   kcal  Pratik’s Apple Watch          4.3.2   \n",
      "28                   kcal  Pratik’s Apple Watch          4.3.2   \n",
      "29                   kcal  Pratik’s Apple Watch          4.3.2   \n",
      "30                   kcal  Pratik’s Apple Watch          4.3.2   \n",
      "31                   kcal  Pratik’s Apple Watch          4.3.2   \n",
      "32                   kcal  Pratik’s Apple Watch          4.3.2   \n",
      "33                   kcal  Pratik’s Apple Watch          4.3.2   \n",
      "34                   kcal  Pratik’s Apple Watch          4.3.2   \n",
      "35                   kcal  Pratik’s Apple Watch          4.3.2   \n",
      "36                   kcal  Pratik’s Apple Watch          4.3.2   \n",
      "37                   kcal             Runkeeper           7662   \n",
      "38                   kcal             Runkeeper           8369   \n",
      "39                   kcal  Pratik’s Apple Watch          4.3.2   \n",
      "40                   kcal  Pratik’s Apple Watch          4.3.2   \n",
      "\n",
      "               @creationDate                @startDate  \\\n",
      "16 2019-08-04 10:54:05-07:00 2019-08-04 09:16:51-07:00   \n",
      "17 2019-08-07 18:02:25-07:00 2019-08-07 17:30:28-07:00   \n",
      "18 2019-08-09 20:33:08-07:00 2019-08-09 20:25:15-07:00   \n",
      "19 2019-08-11 12:02:25-07:00 2019-08-11 10:39:59-07:00   \n",
      "20 2019-08-17 16:24:53-07:00 2019-08-17 13:32:10-07:00   \n",
      "21 2019-09-01 10:12:06-07:00 2019-09-01 08:22:19-07:00   \n",
      "22 2019-09-08 15:05:25-07:00 2019-09-07 14:35:34-07:00   \n",
      "23 2019-09-07 16:16:50-07:00 2019-09-07 15:06:23-07:00   \n",
      "24 2019-09-08 07:23:59-07:00 2019-09-08 04:47:06-07:00   \n",
      "25 2019-09-08 07:29:13-07:00 2019-09-08 04:50:22-07:00   \n",
      "26 2019-09-10 17:56:06-07:00 2019-09-10 17:33:05-07:00   \n",
      "27 2019-09-14 18:09:31-07:00 2019-09-14 18:03:33-07:00   \n",
      "28 2019-09-22 17:39:19-07:00 2019-09-22 17:28:46-07:00   \n",
      "29 2019-09-23 18:23:59-07:00 2019-09-23 18:14:26-07:00   \n",
      "30 2019-09-24 18:10:44-07:00 2019-09-24 18:00:30-07:00   \n",
      "31 2019-09-25 17:43:46-07:00 2019-09-25 17:33:25-07:00   \n",
      "32 2019-09-26 17:30:41-07:00 2019-09-26 17:20:08-07:00   \n",
      "33 2019-09-27 16:22:53-07:00 2019-09-27 16:12:24-07:00   \n",
      "34 2019-10-05 17:15:43-07:00 2019-10-01 18:36:58-07:00   \n",
      "35 2019-10-05 17:21:26-07:00 2019-10-05 17:15:43-07:00   \n",
      "36 2019-10-06 16:52:20-07:00 2019-10-06 16:45:20-07:00   \n",
      "37 2019-11-02 12:30:23-07:00 2019-11-02 08:45:33-07:00   \n",
      "38 2019-11-23 16:04:13-07:00 2019-11-23 14:55:02-07:00   \n",
      "39 2019-11-23 16:01:08-07:00 2019-11-23 14:54:47-07:00   \n",
      "40 2019-11-29 17:43:19-07:00 2019-11-29 16:45:34-07:00   \n",
      "\n",
      "                    @endDate  \\\n",
      "16 2019-08-04 09:49:14-07:00   \n",
      "17 2019-08-07 17:57:16-07:00   \n",
      "18 2019-08-09 20:33:08-07:00   \n",
      "19 2019-08-11 12:02:17-07:00   \n",
      "20 2019-08-17 16:24:29-07:00   \n",
      "21 2019-09-01 10:11:55-07:00   \n",
      "22 2019-09-07 15:43:00-07:00   \n",
      "23 2019-09-07 16:16:43-07:00   \n",
      "24 2019-09-08 06:02:16-07:00   \n",
      "25 2019-09-08 07:29:07-07:00   \n",
      "26 2019-09-10 17:56:04-07:00   \n",
      "27 2019-09-14 18:09:28-07:00   \n",
      "28 2019-09-22 17:39:17-07:00   \n",
      "29 2019-09-23 18:23:57-07:00   \n",
      "30 2019-09-24 18:10:39-07:00   \n",
      "31 2019-09-25 17:43:41-07:00   \n",
      "32 2019-09-26 17:30:37-07:00   \n",
      "33 2019-09-27 16:22:49-07:00   \n",
      "34 2019-10-01 18:44:48-07:00   \n",
      "35 2019-10-05 17:21:23-07:00   \n",
      "36 2019-10-06 16:52:16-07:00   \n",
      "37 2019-11-02 10:06:45-07:00   \n",
      "38 2019-11-23 15:04:48-07:00   \n",
      "39 2019-11-23 16:01:02-07:00   \n",
      "40 2019-11-29 17:43:13-07:00   \n",
      "\n",
      "                                        MetadataEntry @device  \\\n",
      "16  {'@key': 'HKExternalUUID', '@value': '6E137A08...     NaN   \n",
      "17  {'@key': 'HKExternalUUID', '@value': '977498F2...     NaN   \n",
      "18  [{'@key': 'HKGroupFitness', '@value': '0'}, {'...     NaN   \n",
      "19                                                NaN     NaN   \n",
      "20                                                NaN     NaN   \n",
      "21  [{'@key': 'HKTimeZone', '@value': 'America/Den...     NaN   \n",
      "22  {'@key': 'HKExternalUUID', '@value': '47F17F1B...     NaN   \n",
      "23                                                NaN     NaN   \n",
      "24  {'@key': 'HKExternalUUID', '@value': '412E1CC5...     NaN   \n",
      "25  [{'@key': 'HKTimeZone', '@value': 'America/Den...     NaN   \n",
      "26         {'@key': 'HKIndoorWorkout', '@value': '1'}     NaN   \n",
      "27         {'@key': 'HKIndoorWorkout', '@value': '1'}     NaN   \n",
      "28         {'@key': 'HKIndoorWorkout', '@value': '1'}     NaN   \n",
      "29         {'@key': 'HKIndoorWorkout', '@value': '1'}     NaN   \n",
      "30         {'@key': 'HKIndoorWorkout', '@value': '1'}     NaN   \n",
      "31         {'@key': 'HKIndoorWorkout', '@value': '1'}     NaN   \n",
      "32         {'@key': 'HKIndoorWorkout', '@value': '1'}     NaN   \n",
      "33         {'@key': 'HKIndoorWorkout', '@value': '1'}     NaN   \n",
      "34         {'@key': 'HKIndoorWorkout', '@value': '1'}     NaN   \n",
      "35         {'@key': 'HKIndoorWorkout', '@value': '1'}     NaN   \n",
      "36         {'@key': 'HKIndoorWorkout', '@value': '1'}     NaN   \n",
      "37  {'@key': 'HKExternalUUID', '@value': 'E740F017...     NaN   \n",
      "38  {'@key': 'HKExternalUUID', '@value': 'B478E9FD...     NaN   \n",
      "39                                                NaN     NaN   \n",
      "40  [{'@key': 'HKTimeZone', '@value': 'America/Los...     NaN   \n",
      "\n",
      "                                         WorkoutEvent  \n",
      "16                                                NaN  \n",
      "17                                                NaN  \n",
      "18                                                NaN  \n",
      "19  [{'@type': 'HKWorkoutEventTypePause', '@date':...  \n",
      "20  [{'@type': 'HKWorkoutEventTypePause', '@date':...  \n",
      "21  [{'@type': 'HKWorkoutEventTypePause', '@date':...  \n",
      "22                                                NaN  \n",
      "23  {'@type': 'HKWorkoutEventTypePause', '@date': ...  \n",
      "24                                                NaN  \n",
      "25  [{'@type': 'HKWorkoutEventTypePause', '@date':...  \n",
      "26                                                NaN  \n",
      "27  [{'@type': 'HKWorkoutEventTypePause', '@date':...  \n",
      "28  [{'@type': 'HKWorkoutEventTypePause', '@date':...  \n",
      "29  [{'@type': 'HKWorkoutEventTypePause', '@date':...  \n",
      "30  [{'@type': 'HKWorkoutEventTypePause', '@date':...  \n",
      "31  [{'@type': 'HKWorkoutEventTypePause', '@date':...  \n",
      "32  [{'@type': 'HKWorkoutEventTypePause', '@date':...  \n",
      "33  [{'@type': 'HKWorkoutEventTypePause', '@date':...  \n",
      "34                                                NaN  \n",
      "35  [{'@type': 'HKWorkoutEventTypePause', '@date':...  \n",
      "36  [{'@type': 'HKWorkoutEventTypePause', '@date':...  \n",
      "37                                                NaN  \n",
      "38                                                NaN  \n",
      "39  [{'@type': 'HKWorkoutEventTypePause', '@date':...  \n",
      "40  [{'@type': 'HKWorkoutEventTypePause', '@date':...   (25, 15)\n"
     ]
    }
   ],
   "source": [
    "for metric in data:\n",
    "    print(metric, metric.shape)"
   ]
  },
  {
   "cell_type": "code",
   "execution_count": 59,
   "metadata": {
    "scrolled": true
   },
   "outputs": [
    {
     "ename": "NameError",
     "evalue": "name 'm' is not defined",
     "output_type": "error",
     "traceback": [
      "\u001b[0;31m---------------------------------------------------------------------------\u001b[0m",
      "\u001b[0;31mNameError\u001b[0m                                 Traceback (most recent call last)",
      "\u001b[0;32m<ipython-input-59-9d4aef363207>\u001b[0m in \u001b[0;36m<module>\u001b[0;34m\u001b[0m\n\u001b[1;32m      1\u001b[0m \u001b[0;32mfor\u001b[0m \u001b[0mmetric\u001b[0m \u001b[0;32min\u001b[0m \u001b[0mdata\u001b[0m\u001b[0;34m[\u001b[0m\u001b[0;36m1\u001b[0m\u001b[0;34m]\u001b[0m\u001b[0;34m:\u001b[0m\u001b[0;34m\u001b[0m\u001b[0;34m\u001b[0m\u001b[0m\n\u001b[0;32m----> 2\u001b[0;31m     \u001b[0mprint\u001b[0m\u001b[0;34m(\u001b[0m\u001b[0mmetric\u001b[0m\u001b[0;34m,\u001b[0m \u001b[0mm\u001b[0m\u001b[0;34m.\u001b[0m\u001b[0mshape\u001b[0m\u001b[0;34m)\u001b[0m\u001b[0;34m\u001b[0m\u001b[0;34m\u001b[0m\u001b[0m\n\u001b[0m\u001b[1;32m      3\u001b[0m \u001b[0mprint\u001b[0m\u001b[0;34m(\u001b[0m\u001b[0;34m)\u001b[0m\u001b[0;34m\u001b[0m\u001b[0;34m\u001b[0m\u001b[0m\n\u001b[1;32m      4\u001b[0m \u001b[0;32mfor\u001b[0m \u001b[0mmetric\u001b[0m \u001b[0;32min\u001b[0m \u001b[0mdata\u001b[0m\u001b[0;34m[\u001b[0m\u001b[0;36m1\u001b[0m\u001b[0;34m]\u001b[0m\u001b[0;34m[\u001b[0m\u001b[0;34m'@type'\u001b[0m\u001b[0;34m]\u001b[0m\u001b[0;34m.\u001b[0m\u001b[0munique\u001b[0m\u001b[0;34m(\u001b[0m\u001b[0;34m)\u001b[0m\u001b[0;34m:\u001b[0m\u001b[0;34m\u001b[0m\u001b[0;34m\u001b[0m\u001b[0m\n\u001b[1;32m      5\u001b[0m     \u001b[0mm\u001b[0m \u001b[0;34m=\u001b[0m \u001b[0mdata\u001b[0m\u001b[0;34m[\u001b[0m\u001b[0;36m1\u001b[0m\u001b[0;34m]\u001b[0m\u001b[0;34m[\u001b[0m\u001b[0mdata\u001b[0m\u001b[0;34m[\u001b[0m\u001b[0;36m1\u001b[0m\u001b[0;34m]\u001b[0m\u001b[0;34m[\u001b[0m\u001b[0;34m'@type'\u001b[0m\u001b[0;34m]\u001b[0m \u001b[0;34m==\u001b[0m \u001b[0mmetric\u001b[0m\u001b[0;34m]\u001b[0m\u001b[0;34m\u001b[0m\u001b[0;34m\u001b[0m\u001b[0m\n",
      "\u001b[0;31mNameError\u001b[0m: name 'm' is not defined"
     ]
    }
   ],
   "source": [
    "for metric in data[1]:\n",
    "    print(metric, m.shape)\n",
    "print()\n",
    "for metric in data[1]['@type'].unique():\n",
    "    m = data[1][data[1]['@type'] == metric]\n",
    "    print(metric, m.shape)"
   ]
  },
  {
   "cell_type": "code",
   "execution_count": null,
   "metadata": {},
   "outputs": [],
   "source": [
    "for metric in data[2]:\n",
    "    print(metric, m.shape)\n",
    "print()\n",
    "for metric in data[2]['@workoutActivityType'].unique():\n",
    "    m = data[2][data[2]['@workoutActivityType'] == metric]\n",
    "    print(metric, m.shape)"
   ]
  },
  {
   "cell_type": "code",
   "execution_count": null,
   "metadata": {},
   "outputs": [],
   "source": [
    "health_data_activity.shape"
   ]
  },
  {
   "cell_type": "code",
   "execution_count": null,
   "metadata": {},
   "outputs": [],
   "source": [
    "health_data_activity.to_csv('./components/data/activityData.csv', sep=',', encoding='utf-8', index=False)\n",
    "health_data_workout.to_csv('./components/data/workoutData.csv', sep=',', encoding='utf-8', index=False)"
   ]
  },
  {
   "cell_type": "code",
   "execution_count": null,
   "metadata": {},
   "outputs": [],
   "source": [
    "health_data['@type'].unique()"
   ]
  },
  {
   "cell_type": "code",
   "execution_count": null,
   "metadata": {},
   "outputs": [],
   "source": [
    "health_data.shape"
   ]
  },
  {
   "cell_type": "markdown",
   "metadata": {},
   "source": [
    "**Only take required fields**"
   ]
  },
  {
   "cell_type": "code",
   "execution_count": 63,
   "metadata": {},
   "outputs": [
    {
     "data": {
      "text/html": [
       "<div>\n",
       "<style scoped>\n",
       "    .dataframe tbody tr th:only-of-type {\n",
       "        vertical-align: middle;\n",
       "    }\n",
       "\n",
       "    .dataframe tbody tr th {\n",
       "        vertical-align: top;\n",
       "    }\n",
       "\n",
       "    .dataframe thead th {\n",
       "        text-align: right;\n",
       "    }\n",
       "</style>\n",
       "<table border=\"1\" class=\"dataframe\">\n",
       "  <thead>\n",
       "    <tr style=\"text-align: right;\">\n",
       "      <th></th>\n",
       "      <th>@type</th>\n",
       "      <th>@sourceName</th>\n",
       "      <th>@sourceVersion</th>\n",
       "      <th>@unit</th>\n",
       "      <th>@creationDate</th>\n",
       "      <th>@startDate</th>\n",
       "      <th>@endDate</th>\n",
       "      <th>@value</th>\n",
       "      <th>@device</th>\n",
       "      <th>MetadataEntry</th>\n",
       "      <th>HeartRateVariabilityMetadataList</th>\n",
       "    </tr>\n",
       "  </thead>\n",
       "  <tbody>\n",
       "    <tr>\n",
       "      <td>338561</td>\n",
       "      <td>HKCategoryTypeIdentifierSleepAnalysis</td>\n",
       "      <td>Clock</td>\n",
       "      <td>NaN</td>\n",
       "      <td>NaN</td>\n",
       "      <td>2019-11-19 07:55:13-07:00</td>\n",
       "      <td>2019-11-18 23:50:00-07:00</td>\n",
       "      <td>2019-11-19 07:55:13-07:00</td>\n",
       "      <td>HKCategoryValueSleepAnalysisInBed</td>\n",
       "      <td>&lt;&lt;HKDevice: 0x280f4cdc0&gt;, name:iPhone, manufac...</td>\n",
       "      <td>{'@key': 'HKTimeZone', '@value': 'America/Denv...</td>\n",
       "      <td>NaN</td>\n",
       "    </tr>\n",
       "    <tr>\n",
       "      <td>338562</td>\n",
       "      <td>HKCategoryTypeIdentifierSleepAnalysis</td>\n",
       "      <td>Clock</td>\n",
       "      <td>NaN</td>\n",
       "      <td>NaN</td>\n",
       "      <td>2019-11-20 08:02:30-07:00</td>\n",
       "      <td>2019-11-20 01:39:21-07:00</td>\n",
       "      <td>2019-11-20 08:02:25-07:00</td>\n",
       "      <td>HKCategoryValueSleepAnalysisInBed</td>\n",
       "      <td>&lt;&lt;HKDevice: 0x280f4ce10&gt;, name:iPhone, manufac...</td>\n",
       "      <td>{'@key': 'HKTimeZone', '@value': 'America/Denv...</td>\n",
       "      <td>NaN</td>\n",
       "    </tr>\n",
       "    <tr>\n",
       "      <td>338563</td>\n",
       "      <td>HKCategoryTypeIdentifierSleepAnalysis</td>\n",
       "      <td>Clock</td>\n",
       "      <td>NaN</td>\n",
       "      <td>NaN</td>\n",
       "      <td>2019-11-21 07:10:02-07:00</td>\n",
       "      <td>2019-11-21 04:58:15-07:00</td>\n",
       "      <td>2019-11-21 07:09:57-07:00</td>\n",
       "      <td>HKCategoryValueSleepAnalysisInBed</td>\n",
       "      <td>&lt;&lt;HKDevice: 0x280f4ce60&gt;, name:iPhone, manufac...</td>\n",
       "      <td>{'@key': 'HKTimeZone', '@value': 'America/Denv...</td>\n",
       "      <td>NaN</td>\n",
       "    </tr>\n",
       "    <tr>\n",
       "      <td>338564</td>\n",
       "      <td>HKCategoryTypeIdentifierSleepAnalysis</td>\n",
       "      <td>Clock</td>\n",
       "      <td>NaN</td>\n",
       "      <td>NaN</td>\n",
       "      <td>2019-11-22 07:00:19-07:00</td>\n",
       "      <td>2019-11-22 01:08:09-07:00</td>\n",
       "      <td>2019-11-22 07:00:14-07:00</td>\n",
       "      <td>HKCategoryValueSleepAnalysisInBed</td>\n",
       "      <td>&lt;&lt;HKDevice: 0x280f4ceb0&gt;, name:iPhone, manufac...</td>\n",
       "      <td>{'@key': 'HKTimeZone', '@value': 'America/Denv...</td>\n",
       "      <td>NaN</td>\n",
       "    </tr>\n",
       "    <tr>\n",
       "      <td>338565</td>\n",
       "      <td>HKCategoryTypeIdentifierSleepAnalysis</td>\n",
       "      <td>Clock</td>\n",
       "      <td>NaN</td>\n",
       "      <td>NaN</td>\n",
       "      <td>2019-11-25 08:29:52-07:00</td>\n",
       "      <td>2019-11-25 01:00:27-07:00</td>\n",
       "      <td>2019-11-25 08:29:47-07:00</td>\n",
       "      <td>HKCategoryValueSleepAnalysisInBed</td>\n",
       "      <td>&lt;&lt;HKDevice: 0x280f4cf00&gt;, name:iPhone, manufac...</td>\n",
       "      <td>{'@key': 'HKTimeZone', '@value': 'America/Los_...</td>\n",
       "      <td>NaN</td>\n",
       "    </tr>\n",
       "  </tbody>\n",
       "</table>\n",
       "</div>"
      ],
      "text/plain": [
       "                                        @type @sourceName @sourceVersion  \\\n",
       "338561  HKCategoryTypeIdentifierSleepAnalysis       Clock            NaN   \n",
       "338562  HKCategoryTypeIdentifierSleepAnalysis       Clock            NaN   \n",
       "338563  HKCategoryTypeIdentifierSleepAnalysis       Clock            NaN   \n",
       "338564  HKCategoryTypeIdentifierSleepAnalysis       Clock            NaN   \n",
       "338565  HKCategoryTypeIdentifierSleepAnalysis       Clock            NaN   \n",
       "\n",
       "       @unit             @creationDate                @startDate  \\\n",
       "338561   NaN 2019-11-19 07:55:13-07:00 2019-11-18 23:50:00-07:00   \n",
       "338562   NaN 2019-11-20 08:02:30-07:00 2019-11-20 01:39:21-07:00   \n",
       "338563   NaN 2019-11-21 07:10:02-07:00 2019-11-21 04:58:15-07:00   \n",
       "338564   NaN 2019-11-22 07:00:19-07:00 2019-11-22 01:08:09-07:00   \n",
       "338565   NaN 2019-11-25 08:29:52-07:00 2019-11-25 01:00:27-07:00   \n",
       "\n",
       "                        @endDate                             @value  \\\n",
       "338561 2019-11-19 07:55:13-07:00  HKCategoryValueSleepAnalysisInBed   \n",
       "338562 2019-11-20 08:02:25-07:00  HKCategoryValueSleepAnalysisInBed   \n",
       "338563 2019-11-21 07:09:57-07:00  HKCategoryValueSleepAnalysisInBed   \n",
       "338564 2019-11-22 07:00:14-07:00  HKCategoryValueSleepAnalysisInBed   \n",
       "338565 2019-11-25 08:29:47-07:00  HKCategoryValueSleepAnalysisInBed   \n",
       "\n",
       "                                                  @device  \\\n",
       "338561  <<HKDevice: 0x280f4cdc0>, name:iPhone, manufac...   \n",
       "338562  <<HKDevice: 0x280f4ce10>, name:iPhone, manufac...   \n",
       "338563  <<HKDevice: 0x280f4ce60>, name:iPhone, manufac...   \n",
       "338564  <<HKDevice: 0x280f4ceb0>, name:iPhone, manufac...   \n",
       "338565  <<HKDevice: 0x280f4cf00>, name:iPhone, manufac...   \n",
       "\n",
       "                                            MetadataEntry  \\\n",
       "338561  {'@key': 'HKTimeZone', '@value': 'America/Denv...   \n",
       "338562  {'@key': 'HKTimeZone', '@value': 'America/Denv...   \n",
       "338563  {'@key': 'HKTimeZone', '@value': 'America/Denv...   \n",
       "338564  {'@key': 'HKTimeZone', '@value': 'America/Denv...   \n",
       "338565  {'@key': 'HKTimeZone', '@value': 'America/Los_...   \n",
       "\n",
       "       HeartRateVariabilityMetadataList  \n",
       "338561                              NaN  \n",
       "338562                              NaN  \n",
       "338563                              NaN  \n",
       "338564                              NaN  \n",
       "338565                              NaN  "
      ]
     },
     "execution_count": 63,
     "metadata": {},
     "output_type": "execute_result"
    }
   ],
   "source": [
    "health_data_record = health_data[health_data['@type'] == 'HKCategoryTypeIdentifierSleepAnalysis']\n",
    "health_data_record = health_data_record[health_data_record['@type'] != 'HKCategoryTypeIdentifierAppleStandHour']\n",
    "health_data_record.head()"
   ]
  },
  {
   "cell_type": "code",
   "execution_count": null,
   "metadata": {},
   "outputs": [],
   "source": [
    "health_data_record.to_csv('./components/data/recordData.csv', sep=',', encoding='utf-8', index=False)"
   ]
  },
  {
   "cell_type": "code",
   "execution_count": null,
   "metadata": {},
   "outputs": [],
   "source": []
  }
 ],
 "metadata": {
  "kernelspec": {
   "display_name": "Python 3",
   "language": "python",
   "name": "python3"
  },
  "language_info": {
   "codemirror_mode": {
    "name": "ipython",
    "version": 3
   },
   "file_extension": ".py",
   "mimetype": "text/x-python",
   "name": "python",
   "nbconvert_exporter": "python",
   "pygments_lexer": "ipython3",
   "version": "3.7.4"
  }
 },
 "nbformat": 4,
 "nbformat_minor": 2
}
